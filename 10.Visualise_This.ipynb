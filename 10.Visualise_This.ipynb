{
 "cells": [
  {
   "cell_type": "markdown",
   "metadata": {
    "toc": "true"
   },
   "source": [
    "# Table of Contents\n",
    " <p><div class=\"lev1 toc-item\"><a href=\"#Introduction-to-Matplotlib\" data-toc-modified-id=\"Introduction-to-Matplotlib-1\"><span class=\"toc-item-num\">1&nbsp;&nbsp;</span>Introduction to Matplotlib</a></div><div class=\"lev1 toc-item\"><a href=\"#Line-Plots\" data-toc-modified-id=\"Line-Plots-2\"><span class=\"toc-item-num\">2&nbsp;&nbsp;</span>Line Plots</a></div><div class=\"lev2 toc-item\"><a href=\"#Another-Line-Plot\" data-toc-modified-id=\"Another-Line-Plot-21\"><span class=\"toc-item-num\">2.1&nbsp;&nbsp;</span>Another Line Plot</a></div><div class=\"lev2 toc-item\"><a href=\"#More-Parameters-for-Line-Plots\" data-toc-modified-id=\"More-Parameters-for-Line-Plots-22\"><span class=\"toc-item-num\">2.2&nbsp;&nbsp;</span>More Parameters for Line Plots</a></div><div class=\"lev1 toc-item\"><a href=\"#Bar-Plots\" data-toc-modified-id=\"Bar-Plots-3\"><span class=\"toc-item-num\">3&nbsp;&nbsp;</span>Bar Plots</a></div><div class=\"lev1 toc-item\"><a href=\"#Histograms\" data-toc-modified-id=\"Histograms-4\"><span class=\"toc-item-num\">4&nbsp;&nbsp;</span>Histograms</a></div><div class=\"lev1 toc-item\"><a href=\"#Scatterplots\" data-toc-modified-id=\"Scatterplots-5\"><span class=\"toc-item-num\">5&nbsp;&nbsp;</span>Scatterplots</a></div><div class=\"lev3 toc-item\"><a href=\"#Another-Scatterplot-Example\" data-toc-modified-id=\"Another-Scatterplot-Example-501\"><span class=\"toc-item-num\">5.0.1&nbsp;&nbsp;</span>Another Scatterplot Example</a></div><div class=\"lev1 toc-item\"><a href=\"#Grids\" data-toc-modified-id=\"Grids-6\"><span class=\"toc-item-num\">6&nbsp;&nbsp;</span>Grids</a></div><div class=\"lev1 toc-item\"><a href=\"#Saving-Plots\" data-toc-modified-id=\"Saving-Plots-7\"><span class=\"toc-item-num\">7&nbsp;&nbsp;</span>Saving Plots</a></div>"
   ]
  },
  {
   "cell_type": "markdown",
   "metadata": {},
   "source": [
    "# Introduction to Matplotlib\n",
    "Visualisations are a very powerful way for humans to get inferences about data. It allows us to abstract huge amounts of information into easy digestible graphs.<br>\n",
    "Python has a wonderful tool called Matplotlib, which incidentally is inspired by Matlab's visualisation library. Let's begin with a few basic plots.<br>\n",
    "\n",
    "We will also start incorporating more and more data visualisations in the next two sections, so it's not restricted to just toy problems."
   ]
  },
  {
   "cell_type": "code",
   "execution_count": null,
   "metadata": {
    "collapsed": true
   },
   "outputs": [],
   "source": [
    "\"\"\"\n",
    "We begin by using an inbuilt iPython Magic function to display plots \n",
    "within the window.\n",
    "\"\"\"\n",
    "%matplotlib inline\n",
    "import matplotlib.pyplot as plt"
   ]
  },
  {
   "cell_type": "code",
   "execution_count": null,
   "metadata": {
    "collapsed": false
   },
   "outputs": [],
   "source": [
    "import matplotlib\n",
    "print(matplotlib.__version__)\n",
    "print(matplotlib.get_backend())"
   ]
  },
  {
   "cell_type": "markdown",
   "metadata": {},
   "source": [
    "`import matplotlib.pyplot as plt` is python convention. <br>\n",
    "If you want, you can potentially write `import matplotlib.pyplot as chuck_norris` as below. <br>\n",
    "`'as plt'` is the accepted convention though, and helps you write code with speed. "
   ]
  },
  {
   "cell_type": "markdown",
   "metadata": {},
   "source": [
    "# Line Plots"
   ]
  },
  {
   "cell_type": "code",
   "execution_count": null,
   "metadata": {
    "collapsed": true
   },
   "outputs": [],
   "source": [
    "import matplotlib.pyplot as chuck_norris"
   ]
  },
  {
   "cell_type": "code",
   "execution_count": null,
   "metadata": {
    "collapsed": false
   },
   "outputs": [],
   "source": [
    "y = [1,2,3,4,5,4,3,2,1]\n",
    "x = [2,4,6,8,10,12,10,8,6]\n",
    "chuck_norris.plot(x, y)\n",
    "chuck_norris.plot([1,2,3,4,5,4,3,2,1])\n",
    "chuck_norris.ylabel('Numbers')\n",
    "chuck_norris.show()"
   ]
  },
  {
   "cell_type": "markdown",
   "metadata": {},
   "source": [
    "So as you see, the convention `plt` can save you from typing `chuck_norris` every single time. \n",
    "Back to business though. Let's reimport matplotlib."
   ]
  },
  {
   "cell_type": "markdown",
   "metadata": {},
   "source": [
    "## Another Line Plot"
   ]
  },
  {
   "cell_type": "code",
   "execution_count": null,
   "metadata": {
    "collapsed": true
   },
   "outputs": [],
   "source": [
    "x = [1, 2, 3, 4, 5]\n",
    "y = [1, 4, 9, 16, 25]\n",
    "# We have two lists, or more in mathematical terms, arrays, x and y"
   ]
  },
  {
   "cell_type": "code",
   "execution_count": null,
   "metadata": {
    "collapsed": false
   },
   "outputs": [],
   "source": [
    "plt.plot(x, y)"
   ]
  },
  {
   "cell_type": "markdown",
   "metadata": {},
   "source": [
    "Let's break down what's happening."
   ]
  },
  {
   "cell_type": "code",
   "execution_count": null,
   "metadata": {
    "collapsed": true
   },
   "outputs": [],
   "source": [
    "# Import libraries\n",
    "import matplotlib.pyplot as plt\n",
    "import numpy as np"
   ]
  },
  {
   "cell_type": "code",
   "execution_count": null,
   "metadata": {
    "collapsed": true
   },
   "outputs": [],
   "source": [
    "# Prepare the data\n",
    "# Insert 10 values between 0 and 10000\n",
    "x = np.linspace(0, 10, 10000)"
   ]
  },
  {
   "cell_type": "code",
   "execution_count": null,
   "metadata": {
    "collapsed": false
   },
   "outputs": [],
   "source": [
    "# Plot the data\n",
    "plt.plot(x, x, label='Sales')\n",
    "\n",
    "# Add a legend\n",
    "plt.legend()\n",
    "\n",
    "# Add more information\n",
    "plt.xlabel('Adwords Spending')\n",
    "plt.ylabel('Montly Sales')\n",
    "plt.title('Effect of Adwords Spending on Monthly Sales')"
   ]
  },
  {
   "cell_type": "markdown",
   "metadata": {},
   "source": [
    "But this is too small. Let's specify the size of the plot. Note that you set it once at the very top, right after you import your libraries, or keep varying it every time you want to plot a graph."
   ]
  },
  {
   "cell_type": "code",
   "execution_count": null,
   "metadata": {
    "collapsed": true
   },
   "outputs": [],
   "source": [
    "plt.rcParams[\"figure.figsize\"] = (10,5)"
   ]
  },
  {
   "cell_type": "code",
   "execution_count": null,
   "metadata": {
    "collapsed": false,
    "scrolled": false
   },
   "outputs": [],
   "source": [
    "# Plot the data\n",
    "plt.plot(x, x, label='linear')\n",
    "\n",
    "# Add a legend\n",
    "plt.legend()\n",
    "\n",
    "# Add more information\n",
    "plt.xlabel('Adwords Spending')\n",
    "plt.ylabel('Montly Sales')\n",
    "plt.title('Effect of Adwords Spending on Monthly Sales')"
   ]
  },
  {
   "cell_type": "markdown",
   "metadata": {},
   "source": [
    "## More Parameters for Line Plots"
   ]
  },
  {
   "cell_type": "code",
   "execution_count": null,
   "metadata": {
    "collapsed": true
   },
   "outputs": [],
   "source": [
    "y = [1,4,9,16,25,36,49,64,81,100]\n",
    "x1 = [5,10,15,20,25,30,35,40,45,47]\n",
    "x2 = [1,1,2,3,5,8,13,21,34,53]"
   ]
  },
  {
   "cell_type": "code",
   "execution_count": null,
   "metadata": {
    "collapsed": false
   },
   "outputs": [],
   "source": [
    "plt.rcParams[\"figure.figsize\"] = (15,7)\n",
    "plt.plot(y,x1, marker='+', linestyle='--', color='b',label='Blue Shift')\n",
    "plt.plot(y,x2, marker='o', linestyle='-', color='r', label='Red Shift')\n",
    "plt.xlabel('Days to Election')\n",
    "plt.ylabel('Popularity')\n",
    "plt.title('Candidate Popularity')\n",
    "plt.legend(loc='lower right')"
   ]
  },
  {
   "cell_type": "markdown",
   "metadata": {},
   "source": [
    "# Bar Plots"
   ]
  },
  {
   "cell_type": "code",
   "execution_count": null,
   "metadata": {
    "collapsed": false
   },
   "outputs": [],
   "source": [
    "import matplotlib.pyplot as plt\n",
    "# Declare Values\n",
    "vals = [10, 5, 3, 5, 7,6]\n",
    "xval = [1, 2, 3, 4, 5,6]\n",
    "# Bar Plot\n",
    "plt.bar(xval, vals)\n",
    "plt.xlabel('ID Number')\n",
    "plt.ylabel('Weekly Sales')"
   ]
  },
  {
   "cell_type": "markdown",
   "metadata": {},
   "source": [
    "# Histograms"
   ]
  },
  {
   "cell_type": "code",
   "execution_count": null,
   "metadata": {
    "ExecuteTime": {
     "end_time": "2017-02-26T02:51:25.291951",
     "start_time": "2017-02-26T02:51:24.400081"
    },
    "collapsed": false
   },
   "outputs": [],
   "source": [
    "import numpy as np\n",
    "import matplotlib.pyplot as plt\n",
    "% matplotlib inline\n",
    "\n",
    "Y = []\n",
    "for x in range(0,1000000):\n",
    "    Y.append(np.random.randn())"
   ]
  },
  {
   "cell_type": "code",
   "execution_count": null,
   "metadata": {
    "ExecuteTime": {
     "end_time": "2017-02-26T02:51:27.268700",
     "start_time": "2017-02-26T02:51:26.627569"
    },
    "collapsed": false
   },
   "outputs": [],
   "source": [
    "# Here 50 is the bin size. Try playing around with 10,100,200 etc and see how it effects the shape of the graph\n",
    "plt.hist(Y, 500)\n",
    "plt.title('Distribution of Random Numbers')"
   ]
  },
  {
   "cell_type": "markdown",
   "metadata": {},
   "source": [
    "# Scatterplots"
   ]
  },
  {
   "cell_type": "code",
   "execution_count": null,
   "metadata": {
    "ExecuteTime": {
     "end_time": "2017-02-26T02:49:01.335134",
     "start_time": "2017-02-26T02:49:01.301143"
    },
    "collapsed": false
   },
   "outputs": [],
   "source": [
    "radius = [1.0, 2.0, 3.0, 4.0, 5.0]\n",
    "# We import the math library. \n",
    "# This can also be done as from math import pi\n",
    "# Then instead of math.pi, we simply use pi\n",
    "import math\n",
    "\n",
    "# How awesome is list comprehension!!\n",
    "area = [round((r**2)*math.pi,2) for r in radius]\n",
    "print(area)"
   ]
  },
  {
   "cell_type": "code",
   "execution_count": null,
   "metadata": {
    "collapsed": false
   },
   "outputs": [],
   "source": [
    "plt.xlabel('Radius')\n",
    "plt.ylabel('Area')\n",
    "plt.title('Radius of Circle v Area')\n",
    "plt.scatter(radius, area, color='red', s=30)"
   ]
  },
  {
   "cell_type": "markdown",
   "metadata": {},
   "source": [
    "### Another Scatterplot Example"
   ]
  },
  {
   "cell_type": "code",
   "execution_count": null,
   "metadata": {
    "collapsed": false
   },
   "outputs": [],
   "source": [
    "import numpy as np\n",
    "x = np.random.randn(1, 500)\n",
    "y = np.random.randn(1,500)\n",
    "plt.scatter(x, y, color='b', s=30) # s = size of the point\n",
    "plt.xlabel('X axis')\n",
    "plt.ylabel('Y axis')\n",
    "plt.title('Scatter Plot')"
   ]
  },
  {
   "cell_type": "markdown",
   "metadata": {},
   "source": [
    "# Grids"
   ]
  },
  {
   "cell_type": "code",
   "execution_count": null,
   "metadata": {
    "collapsed": false
   },
   "outputs": [],
   "source": [
    "fig = plt.figure()\n",
    "\n",
    "# 121 = row,column,plot number\n",
    "# Plot for Left Hand Side - 121 means \n",
    "imgage1 = fig.add_subplot(121)\n",
    "N=500\n",
    "x = np.random.randn(N)\n",
    "y = np.random.randn(N)\n",
    "colours = np.random.rand(N)\n",
    "size =(20 * np.random.rand(N))**2 \n",
    "plt.scatter(x, y, s=size, c=colors, alpha=0.4)\n",
    "\n",
    "# Plot for Right Hand Side\n",
    "imgage2 = fig.add_subplot(122)\n",
    "N=1000\n",
    "x1 = np.random.randn(N)\n",
    "y1 = np.random.randn(N)\n",
    "area= (5 * np.random.rand(N))**3 \n",
    "colors = ['magenta', 'blue', 'black', 'yellow',]\n",
    "plt.scatter(x1, y1, s=area, c=colors, alpha=0.6)\n",
    "imgage2.grid(True)"
   ]
  },
  {
   "cell_type": "code",
   "execution_count": null,
   "metadata": {
    "collapsed": false,
    "scrolled": false
   },
   "outputs": [],
   "source": [
    "y = [1,4,9,16,25,36,49,64,81,100]\n",
    "x1 = [5,10,15,20,25,30,35,40,45,47]\n",
    "x2 = [1,1,2,3,5,8,13,21,34,53]\n",
    "\n",
    "fig = plt.figure()\n",
    "fig.suptitle(\"Candidate Popularity\", fontsize=\"x-large\")\n",
    "# 121 = row,column,plot number\n",
    "# Plot for Left Hand Side - 121 means \n",
    "imgage011 = fig.add_subplot(121)\n",
    "plt.xlabel('Days to Election')\n",
    "plt.plot(y,x1, marker='+', linestyle='--', color='b')\n",
    "\n",
    "# Plot for Right Hand Side\n",
    "imgage2 = fig.add_subplot(122)\n",
    "plt.xlabel('Days to Election')\n",
    "plt.plot(y,x2, marker='o', linestyle='-', color='r')\n",
    "#imgage2.grid(True)"
   ]
  },
  {
   "cell_type": "code",
   "execution_count": null,
   "metadata": {
    "collapsed": false
   },
   "outputs": [],
   "source": [
    "## Alternate Method\n",
    "fig = plt.figure()\n",
    "fig.suptitle(\"Candidate Popularity\", fontsize=\"x-large\")\n",
    "\n",
    "ax1 = fig.add_subplot(121)\n",
    "ax1.plot(y, x1, 'r-')\n",
    "ax1.set_title(\"Candidate 1\")\n",
    "\n",
    "ax2 = fig.add_subplot(122)\n",
    "ax2.plot(y, x2, 'k-')\n",
    "ax2.set_title(\"Candidate 2\")\n",
    "\n",
    "plt.tight_layout()\n",
    "fig = plt.gcf()"
   ]
  },
  {
   "cell_type": "markdown",
   "metadata": {},
   "source": [
    "# Saving Plots"
   ]
  },
  {
   "cell_type": "code",
   "execution_count": null,
   "metadata": {
    "collapsed": false
   },
   "outputs": [],
   "source": [
    "y = [1,4,9,16,25,36,49,64,81,100]\n",
    "x1 = [5,10,15,20,25,30,35,40,45,47]\n",
    "x2 = [1,1,2,3,5,8,13,21,34,53]\n",
    "\n",
    "fig = plt.figure()\n",
    "fig.suptitle(\"Candidate Popularity\", fontsize=\"x-large\")\n",
    "# 121 = row,column,plot number\n",
    "# Plot for Left Hand Side - 121 means \n",
    "imgage011 = fig.add_subplot(121)\n",
    "plt.xlabel('Days to Election')\n",
    "plt.plot(y,x1, marker='+', linestyle='--', color='b')\n",
    "\n",
    "# Plot for Right Hand Side\n",
    "imgage2 = fig.add_subplot(122)\n",
    "plt.xlabel('Days to Election')\n",
    "plt.plot(y,x2, marker='o', linestyle='-', color='r')\n",
    "#imgage2.grid(True)\n",
    "\n",
    "# Save Figure\n",
    "plt.savefig(\"images/pop.png\")\n",
    "\n",
    "# Save Transparent Figure\n",
    "plt.savefig(\"images/pop2.png\", transparent=True)"
   ]
  }
 ],
 "metadata": {
  "anaconda-cloud": {},
  "kernelspec": {
   "display_name": "Python [conda env:py3]",
   "language": "python",
   "name": "conda-env-py3-py"
  },
  "language_info": {
   "codemirror_mode": {
    "name": "ipython",
    "version": 3
   },
   "file_extension": ".py",
   "mimetype": "text/x-python",
   "name": "python",
   "nbconvert_exporter": "python",
   "pygments_lexer": "ipython3",
   "version": "3.5.2"
  },
  "toc": {
   "colors": {
    "hover_highlight": "#DAA520",
    "running_highlight": "#FF0000",
    "selected_highlight": "#FFD700"
   },
   "moveMenuLeft": true,
   "nav_menu": {
    "height": "102px",
    "width": "252px"
   },
   "navigate_menu": true,
   "number_sections": true,
   "sideBar": true,
   "threshold": 4,
   "toc_cell": true,
   "toc_section_display": "block",
   "toc_window_display": true
  }
 },
 "nbformat": 4,
 "nbformat_minor": 2
}
