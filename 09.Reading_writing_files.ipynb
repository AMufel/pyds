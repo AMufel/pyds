{
 "cells": [
  {
   "cell_type": "markdown",
   "metadata": {
    "toc": "true"
   },
   "source": [
    "# Table of Contents\n",
    " <p><div class=\"lev1 toc-item\"><a href=\"#Reading-and-Writing-Files\" data-toc-modified-id=\"Reading-and-Writing-Files-1\"><span class=\"toc-item-num\">1&nbsp;&nbsp;</span>Reading and Writing Files</a></div><div class=\"lev2 toc-item\"><a href=\"#Reading-from-the-disk\" data-toc-modified-id=\"Reading-from-the-disk-11\"><span class=\"toc-item-num\">1.1&nbsp;&nbsp;</span>Reading from the disk</a></div><div class=\"lev2 toc-item\"><a href=\"#Processing-File-Contents\" data-toc-modified-id=\"Processing-File-Contents-12\"><span class=\"toc-item-num\">1.2&nbsp;&nbsp;</span>Processing File Contents</a></div><div class=\"lev2 toc-item\"><a href=\"#Exercise\" data-toc-modified-id=\"Exercise-13\"><span class=\"toc-item-num\">1.3&nbsp;&nbsp;</span>Exercise</a></div>"
   ]
  },
  {
   "cell_type": "markdown",
   "metadata": {},
   "source": [
    "# Reading and Writing Files\n",
    "So far, we have fed our code tiny snippets of data, whether in a list, or a dictionary, or some simple one line blocks of data.<br><br>\n",
    "As a data scientist, you will however be reading data from files on your server or on your computer. You will then process the data, run your analyses on it, and save the corresponding output to another file. <br> <br>\n",
    "In this section, we look at all the techniques needed for it.\n",
    "\n",
    "There are three modes in while files are accessed:\n",
    "+`r`: read-only mode.\n",
    "+`w`: write to a file. If you're note careful, this will overwrite an existing content.\n",
    "+`a`: append to a file. In simpler words, add to the end of the file.\n",
    "\n",
    "**Commonly Used Commands**\n",
    "+ `file.read()`: read contents of a file in its entirity, as one large string. Again, careful with this. Don't read a 30gb file when all of you have is a piddly 4gb machine.\n",
    "+ `file.write(a_string)`: writes to the file. Writes very often get buffered, and your current file may be a few write commands behind. Think of it as a bus not starting for its destination till a minimum number of passengers aren't on board. Python tries to be efficient in combining multiple writes.\n",
    "+ `file.flush()`: write out any buffered writes. Remember, you need to write before you flush.\n",
    "+ `file.close()`: close the open file. Always remember to close a file, else it stays in memory and will slow down the system eventually.\n"
   ]
  },
  {
   "cell_type": "code",
   "execution_count": null,
   "metadata": {
    "collapsed": true
   },
   "outputs": [],
   "source": [
    "f = open(\"example.txt\", \"w\")\n",
    "f.write(\"I refuse to start with a Hello World!\\nThis is mutiny!\\n\")\n",
    "f.write(\"Ok, I withdraw my previous statements.\")\n",
    "f.flush()\n",
    "f.close()"
   ]
  },
  {
   "cell_type": "code",
   "execution_count": null,
   "metadata": {
    "collapsed": false
   },
   "outputs": [],
   "source": [
    "# Remember your Unix lessons?\n",
    "!cat example.txt"
   ]
  },
  {
   "cell_type": "markdown",
   "metadata": {},
   "source": [
    "## Reading from the disk"
   ]
  },
  {
   "cell_type": "code",
   "execution_count": null,
   "metadata": {
    "collapsed": true
   },
   "outputs": [],
   "source": [
    "f2 = open(\"example.txt\", \"r\")\n",
    "f2_contents = f2.read()\n",
    "f2.close()"
   ]
  },
  {
   "cell_type": "code",
   "execution_count": null,
   "metadata": {
    "collapsed": false
   },
   "outputs": [],
   "source": [
    "f2_contents"
   ]
  },
  {
   "cell_type": "markdown",
   "metadata": {},
   "source": [
    "As you can see, the contents of the file are now assigned to a variable, f2_contents. f2_contents is a string."
   ]
  },
  {
   "cell_type": "code",
   "execution_count": null,
   "metadata": {
    "collapsed": false
   },
   "outputs": [],
   "source": [
    "type(f2_contents)"
   ]
  },
  {
   "cell_type": "markdown",
   "metadata": {},
   "source": [
    "## Processing File Contents"
   ]
  },
  {
   "cell_type": "markdown",
   "metadata": {},
   "source": [
    "Now that we have read from the file, we need to analyse it. Let's begin!"
   ]
  },
  {
   "cell_type": "code",
   "execution_count": null,
   "metadata": {
    "collapsed": false
   },
   "outputs": [],
   "source": [
    "lines = f2_contents.split(\"\\n\")\n",
    "lines"
   ]
  },
  {
   "cell_type": "code",
   "execution_count": null,
   "metadata": {
    "collapsed": false
   },
   "outputs": [],
   "source": [
    "len(lines)"
   ]
  },
  {
   "cell_type": "code",
   "execution_count": null,
   "metadata": {
    "collapsed": false
   },
   "outputs": [],
   "source": [
    "for line in lines:\n",
    "    #print(\"Length of line '{}' is {}\".format(line, len(line)))\n",
    "    print (len(line))"
   ]
  },
  {
   "cell_type": "markdown",
   "metadata": {},
   "source": [
    "And of course, all this applies to numbers too."
   ]
  },
  {
   "cell_type": "code",
   "execution_count": null,
   "metadata": {
    "collapsed": false,
    "scrolled": true
   },
   "outputs": [],
   "source": [
    "f = open(\"numbers.txt\", \"w\")\n",
    "for num in range(100):\n",
    "    f.write(str(num)+ '\\n')\n",
    "f.close()"
   ]
  },
  {
   "cell_type": "code",
   "execution_count": null,
   "metadata": {
    "collapsed": false
   },
   "outputs": [],
   "source": [
    "!cat numbers.txt"
   ]
  },
  {
   "cell_type": "code",
   "execution_count": null,
   "metadata": {
    "collapsed": false
   },
   "outputs": [],
   "source": [
    "f = open('numbers.txt', 'r')\n",
    "f_content = f.read()\n",
    "f.close()\n",
    "f_content"
   ]
  },
  {
   "cell_type": "code",
   "execution_count": null,
   "metadata": {
    "collapsed": false
   },
   "outputs": [],
   "source": [
    "lines = f_content.split(\"\\n\")\n",
    "print(lines)"
   ]
  },
  {
   "cell_type": "code",
   "execution_count": null,
   "metadata": {
    "collapsed": false
   },
   "outputs": [],
   "source": [
    "type(lines)"
   ]
  },
  {
   "cell_type": "code",
   "execution_count": null,
   "metadata": {
    "collapsed": false
   },
   "outputs": [],
   "source": [
    "lines[0]"
   ]
  },
  {
   "cell_type": "code",
   "execution_count": null,
   "metadata": {
    "collapsed": false
   },
   "outputs": [],
   "source": [
    "type(lines[0])"
   ]
  },
  {
   "cell_type": "code",
   "execution_count": null,
   "metadata": {
    "collapsed": false
   },
   "outputs": [],
   "source": [
    "# Let's convert these into integers\n",
    "integer_list = [int(line) for line in lines] # Oh no!"
   ]
  },
  {
   "cell_type": "code",
   "execution_count": null,
   "metadata": {
    "collapsed": false
   },
   "outputs": [],
   "source": [
    "integer_list = [int(line) for line in lines if len(line)!= 0]"
   ]
  },
  {
   "cell_type": "code",
   "execution_count": null,
   "metadata": {
    "collapsed": true
   },
   "outputs": [],
   "source": [
    "integer_list"
   ]
  },
  {
   "cell_type": "code",
   "execution_count": null,
   "metadata": {
    "collapsed": false
   },
   "outputs": [],
   "source": [
    "integer_list[0]"
   ]
  },
  {
   "cell_type": "code",
   "execution_count": null,
   "metadata": {
    "collapsed": false
   },
   "outputs": [],
   "source": [
    "type(integer_list)"
   ]
  },
  {
   "cell_type": "code",
   "execution_count": null,
   "metadata": {
    "collapsed": false
   },
   "outputs": [],
   "source": [
    "type(integer_list[0])"
   ]
  },
  {
   "cell_type": "markdown",
   "metadata": {},
   "source": [
    "And finally - time to be a....\n",
    "<img src=\"images/sani.jpg\">"
   ]
  },
  {
   "cell_type": "code",
   "execution_count": null,
   "metadata": {
    "collapsed": true
   },
   "outputs": [],
   "source": [
    "!rm example.txt\n",
    "!rm numbers.txt"
   ]
  },
  {
   "cell_type": "markdown",
   "metadata": {},
   "source": [
    "## Exercise\n",
    "All our theory has to lead to something. And here we have a hands on challenge. And just so you're not completely stumped by it, this is a problem you have partially worked on before. \n",
    "\n",
    "As a data scientist, about 70 to 80% of your job will actually be exploring data sets, cleaning it, and running exploratory tests again on cleaned data sets. Modeling and predictions are trivial once the heavy lifting has been done, and I'm not exagerrating. Find any data scientist, and ask him or her what the most time consuming part of their job is. \n",
    "\n",
    "Let's go to https://fakenumber.org/ and generate a few fake phone numbers. Then let's change it to look like a real world txt file with copied texts from multiple sources, words, names, extension numbers etc. Make it as difficult as possible for you. You have to keep challenging yourself to get to a higher and higher level. Think of it as playing COD/Super Mario/Contra/your favourite game. I have posted the solution a few boxes below, but this is for you to challenge yourself. No one's looking, and you can't cheat yourself!"
   ]
  },
  {
   "cell_type": "code",
   "execution_count": null,
   "metadata": {
    "collapsed": true
   },
   "outputs": [],
   "source": [
    "# This will create the phonenumbers.txt file. Unix FTW again!\n",
    "%%file Data/phonenumbers.txt\n",
    "202-555-0116\n",
    "202-555-0181 Jill\n",
    "202-555-0142\n",
    "202-(555)-0173 Bryan\n",
    "+1-202-555-0116\n",
    "+1-202-555-0181\n",
    "+1-202-555-0142 Raj\n",
    "+1-202-555-0173\n",
    "+1-(202)-555-0137 Jonah Lomu\n",
    "Not really free 800-555-1231x1234\n",
    "800-555-1212 ext. 1234\n",
    "work 1-(800) 555.1212 #1234"
   ]
  },
  {
   "cell_type": "code",
   "execution_count": null,
   "metadata": {
    "collapsed": true
   },
   "outputs": [],
   "source": []
  },
  {
   "cell_type": "code",
   "execution_count": null,
   "metadata": {
    "collapsed": true
   },
   "outputs": [],
   "source": []
  },
  {
   "cell_type": "code",
   "execution_count": null,
   "metadata": {
    "collapsed": true
   },
   "outputs": [],
   "source": []
  },
  {
   "cell_type": "code",
   "execution_count": null,
   "metadata": {
    "collapsed": true
   },
   "outputs": [],
   "source": []
  },
  {
   "cell_type": "code",
   "execution_count": null,
   "metadata": {
    "collapsed": true
   },
   "outputs": [],
   "source": []
  },
  {
   "cell_type": "code",
   "execution_count": null,
   "metadata": {
    "collapsed": true
   },
   "outputs": [],
   "source": []
  },
  {
   "cell_type": "code",
   "execution_count": null,
   "metadata": {
    "collapsed": false
   },
   "outputs": [],
   "source": [
    "ls"
   ]
  },
  {
   "cell_type": "code",
   "execution_count": null,
   "metadata": {
    "collapsed": true
   },
   "outputs": [],
   "source": [
    "def clean_up(phone_num):\n",
    "    number = \"\"\n",
    "    digits = {\"0\",\"1\",\"2\",\"3\",\"4\",\"5\",\"6\",\"7\",\"8\",\"9\"}\n",
    "    \n",
    "    for char in phone_num:\n",
    "        if char in digits:\n",
    "            number = result + c\n",
    "    return number "
   ]
  },
  {
   "cell_type": "code",
   "execution_count": null,
   "metadata": {
    "collapsed": true
   },
   "outputs": [],
   "source": [
    "f = open(\"Data/phonenumbers.txt\", \"r\")\n",
    "content = f.read()\n",
    "f.close()"
   ]
  },
  {
   "cell_type": "code",
   "execution_count": null,
   "metadata": {
    "collapsed": false
   },
   "outputs": [],
   "source": [
    "# Let's have a peek at the file\n",
    "content"
   ]
  },
  {
   "cell_type": "code",
   "execution_count": null,
   "metadata": {
    "collapsed": true
   },
   "outputs": [],
   "source": [
    "# Time to split the lines\n",
    "lines = content.split(\"\\n\")"
   ]
  },
  {
   "cell_type": "code",
   "execution_count": null,
   "metadata": {
    "collapsed": false
   },
   "outputs": [],
   "source": [
    "\"\"\"\n",
    "I am only doing this since we know there are a couple of lines\n",
    "Else, please don't print the whole file. There are other techniques\n",
    "to look at snippets of data from within a file, and we will go over\n",
    "them in later lessons.\n",
    "\"\"\"\n",
    "lines"
   ]
  },
  {
   "cell_type": "code",
   "execution_count": null,
   "metadata": {
    "collapsed": false
   },
   "outputs": [],
   "source": [
    "for line in lines:\n",
    "    print(clean(line))"
   ]
  }
 ],
 "metadata": {
  "anaconda-cloud": {},
  "kernelspec": {
   "display_name": "Python [conda env:py3]",
   "language": "python",
   "name": "conda-env-py3-py"
  },
  "language_info": {
   "codemirror_mode": {
    "name": "ipython",
    "version": 3
   },
   "file_extension": ".py",
   "mimetype": "text/x-python",
   "name": "python",
   "nbconvert_exporter": "python",
   "pygments_lexer": "ipython3",
   "version": "3.5.2"
  },
  "toc": {
   "colors": {
    "hover_highlight": "#DAA520",
    "running_highlight": "#FF0000",
    "selected_highlight": "#FFD700"
   },
   "moveMenuLeft": true,
   "nav_menu": {
    "height": "84px",
    "width": "252px"
   },
   "navigate_menu": true,
   "number_sections": true,
   "sideBar": true,
   "threshold": 4,
   "toc_cell": true,
   "toc_section_display": "block",
   "toc_window_display": true
  }
 },
 "nbformat": 4,
 "nbformat_minor": 2
}
