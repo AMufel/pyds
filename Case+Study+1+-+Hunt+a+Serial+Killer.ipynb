{
 "cells": [
  {
   "cell_type": "markdown",
   "metadata": {
    "toc": "true"
   },
   "source": [
    "# Table of Contents\n",
    " <p><div class=\"lev2 toc-item\"><a href=\"#Importing-Libraries\" data-toc-modified-id=\"Importing-Libraries-01\"><span class=\"toc-item-num\">0.1&nbsp;&nbsp;</span>Importing Libraries</a></div><div class=\"lev2 toc-item\"><a href=\"#Import-the-CSV-file\" data-toc-modified-id=\"Import-the-CSV-file-02\"><span class=\"toc-item-num\">0.2&nbsp;&nbsp;</span>Import the CSV file</a></div><div class=\"lev2 toc-item\"><a href=\"#Basic-Exploration\" data-toc-modified-id=\"Basic-Exploration-03\"><span class=\"toc-item-num\">0.3&nbsp;&nbsp;</span>Basic Exploration</a></div><div class=\"lev2 toc-item\"><a href=\"#Weapons-Used\" data-toc-modified-id=\"Weapons-Used-04\"><span class=\"toc-item-num\">0.4&nbsp;&nbsp;</span>Weapons Used</a></div><div class=\"lev2 toc-item\"><a href=\"#Unsolved-Crimes\" data-toc-modified-id=\"Unsolved-Crimes-05\"><span class=\"toc-item-num\">0.5&nbsp;&nbsp;</span>Unsolved Crimes</a></div><div class=\"lev2 toc-item\"><a href=\"#Month\" data-toc-modified-id=\"Month-06\"><span class=\"toc-item-num\">0.6&nbsp;&nbsp;</span>Month</a></div><div class=\"lev2 toc-item\"><a href=\"#Agency-Type\" data-toc-modified-id=\"Agency-Type-07\"><span class=\"toc-item-num\">0.7&nbsp;&nbsp;</span>Agency Type</a></div><div class=\"lev2 toc-item\"><a href=\"#Removing-Death-by-Negligence\" data-toc-modified-id=\"Removing-Death-by-Negligence-08\"><span class=\"toc-item-num\">0.8&nbsp;&nbsp;</span>Removing Death by Negligence</a></div><div class=\"lev2 toc-item\"><a href=\"#Exploring-Relationship-Between-Victims-and-Perpetrators\" data-toc-modified-id=\"Exploring-Relationship-Between-Victims-and-Perpetrators-09\"><span class=\"toc-item-num\">0.9&nbsp;&nbsp;</span>Exploring Relationship Between Victims and Perpetrators</a></div><div class=\"lev2 toc-item\"><a href=\"#Race\" data-toc-modified-id=\"Race-010\"><span class=\"toc-item-num\">0.10&nbsp;&nbsp;</span>Race</a></div>"
   ]
  },
  {
   "cell_type": "markdown",
   "metadata": {},
   "source": [
    "## Importing Libraries"
   ]
  },
  {
   "cell_type": "code",
   "execution_count": null,
   "metadata": {
    "ExecuteTime": {
     "end_time": "2017-03-01T23:39:42.262023",
     "start_time": "2017-03-01T23:39:39.942146"
    },
    "collapsed": true
   },
   "outputs": [],
   "source": [
    "import pandas as pd\n",
    "import numpy as np"
   ]
  },
  {
   "cell_type": "code",
   "execution_count": null,
   "metadata": {
    "ExecuteTime": {
     "end_time": "2017-03-01T23:39:44.578609",
     "start_time": "2017-03-01T23:39:42.265769"
    },
    "collapsed": false,
    "scrolled": true
   },
   "outputs": [],
   "source": [
    "%matplotlib inline\n",
    "import matplotlib.pyplot as plt\n",
    "import seaborn as sns\n",
    "plt.rcParams[\"figure.figsize\"] = (20,5) # This can be the default, or else, you can also specify this every time you generate a graph"
   ]
  },
  {
   "cell_type": "code",
   "execution_count": null,
   "metadata": {
    "ExecuteTime": {
     "end_time": "2017-03-01T23:39:44.660163",
     "start_time": "2017-03-01T23:39:44.582281"
    },
    "collapsed": false
   },
   "outputs": [],
   "source": [
    "import vincent\n",
    "vincent.core.initialize_notebook()"
   ]
  },
  {
   "cell_type": "markdown",
   "metadata": {},
   "source": [
    "## Import the CSV file"
   ]
  },
  {
   "cell_type": "code",
   "execution_count": null,
   "metadata": {
    "ExecuteTime": {
     "end_time": "2017-03-01T23:39:48.433285",
     "start_time": "2017-03-01T23:39:44.663388"
    },
    "collapsed": false
   },
   "outputs": [],
   "source": [
    "# Note: You will have to unzip the file, as Github has a file size limit of 100mb\n",
    "df = pd.read_csv(\"Data/database.csv\")"
   ]
  },
  {
   "cell_type": "markdown",
   "metadata": {},
   "source": [
    "## Basic Exploration"
   ]
  },
  {
   "cell_type": "code",
   "execution_count": null,
   "metadata": {
    "ExecuteTime": {
     "end_time": "2017-03-01T23:39:48.624091",
     "start_time": "2017-03-01T23:39:48.442389"
    },
    "collapsed": false
   },
   "outputs": [],
   "source": [
    "df.head()"
   ]
  },
  {
   "cell_type": "code",
   "execution_count": null,
   "metadata": {
    "ExecuteTime": {
     "end_time": "2017-03-01T23:39:48.636548",
     "start_time": "2017-03-01T23:39:48.627872"
    },
    "collapsed": false
   },
   "outputs": [],
   "source": [
    "df.shape"
   ]
  },
  {
   "cell_type": "code",
   "execution_count": null,
   "metadata": {
    "ExecuteTime": {
     "end_time": "2017-03-01T23:39:48.780636",
     "start_time": "2017-03-01T23:39:48.643150"
    },
    "collapsed": true
   },
   "outputs": [],
   "source": [
    "df.set_index([\"Record ID\"],inplace = True)"
   ]
  },
  {
   "cell_type": "code",
   "execution_count": null,
   "metadata": {
    "ExecuteTime": {
     "end_time": "2017-03-01T23:39:48.858623",
     "start_time": "2017-03-01T23:39:48.790586"
    },
    "collapsed": false
   },
   "outputs": [],
   "source": [
    "df.head()"
   ]
  },
  {
   "cell_type": "code",
   "execution_count": null,
   "metadata": {
    "ExecuteTime": {
     "end_time": "2017-03-01T23:40:18.292231",
     "start_time": "2017-03-01T23:39:48.864286"
    },
    "collapsed": false
   },
   "outputs": [],
   "source": [
    "df.apply(lambda x: sum(x.isnull()),axis=0)"
   ]
  },
  {
   "cell_type": "markdown",
   "metadata": {},
   "source": [
    "Our dataset seems really clean, without any missing values, which is wonderful!"
   ]
  },
  {
   "cell_type": "code",
   "execution_count": null,
   "metadata": {
    "ExecuteTime": {
     "end_time": "2017-03-01T23:40:18.578705",
     "start_time": "2017-03-01T23:40:18.295751"
    },
    "collapsed": false
   },
   "outputs": [],
   "source": [
    "df.describe()"
   ]
  },
  {
   "cell_type": "markdown",
   "metadata": {},
   "source": [
    "## Weapons Used"
   ]
  },
  {
   "cell_type": "code",
   "execution_count": null,
   "metadata": {
    "ExecuteTime": {
     "end_time": "2017-03-01T23:40:18.590067",
     "start_time": "2017-03-01T23:40:18.581288"
    },
    "collapsed": false
   },
   "outputs": [],
   "source": [
    "df[\"Weapon\"].head()"
   ]
  },
  {
   "cell_type": "markdown",
   "metadata": {},
   "source": [
    "Can the scale we deploy for graphics, affect our perception of the nature of the data? Let's check different configurations."
   ]
  },
  {
   "cell_type": "code",
   "execution_count": null,
   "metadata": {
    "ExecuteTime": {
     "end_time": "2017-03-01T23:40:19.452048",
     "start_time": "2017-03-01T23:40:18.592616"
    },
    "collapsed": false
   },
   "outputs": [],
   "source": [
    "plt.rcParams[\"figure.figsize\"] = (20,4)\n",
    "df[\"Weapon\"].value_counts().plot(kind = \"bar\")\n",
    "plt.title('Deaths Attributable to Various Weapons')"
   ]
  },
  {
   "cell_type": "code",
   "execution_count": null,
   "metadata": {
    "ExecuteTime": {
     "end_time": "2017-03-01T23:40:20.045533",
     "start_time": "2017-03-01T23:40:19.455336"
    },
    "collapsed": false
   },
   "outputs": [],
   "source": [
    "plt.rcParams[\"figure.figsize\"] = (10,10)\n",
    "df[\"Weapon\"].value_counts().plot(kind = \"bar\")\n",
    "plt.title('Deaths Attributable to Various Weapons')"
   ]
  },
  {
   "cell_type": "code",
   "execution_count": null,
   "metadata": {
    "ExecuteTime": {
     "end_time": "2017-03-01T23:40:21.103802",
     "start_time": "2017-03-01T23:40:20.048429"
    },
    "collapsed": false,
    "scrolled": true
   },
   "outputs": [],
   "source": [
    "plt.rcParams[\"figure.figsize\"] = (20,4)\n",
    "plt.yscale('log', nonposy='clip')\n",
    "df[\"Weapon\"].value_counts().plot(kind = \"bar\")\n",
    "plt.title('Deaths Attributable to Various Weapons')"
   ]
  },
  {
   "cell_type": "markdown",
   "metadata": {},
   "source": [
    "## Unsolved Crimes"
   ]
  },
  {
   "cell_type": "markdown",
   "metadata": {},
   "source": [
    "Let's pay some attention to unsolved crimes. What are their characteristics?"
   ]
  },
  {
   "cell_type": "code",
   "execution_count": null,
   "metadata": {
    "ExecuteTime": {
     "end_time": "2017-03-01T23:40:21.579481",
     "start_time": "2017-03-01T23:40:21.106504"
    },
    "collapsed": false
   },
   "outputs": [],
   "source": [
    "df[df[\"Crime Solved\"] != \"Yes\"].shape"
   ]
  },
  {
   "cell_type": "code",
   "execution_count": null,
   "metadata": {
    "ExecuteTime": {
     "end_time": "2017-03-01T23:40:21.777758",
     "start_time": "2017-03-01T23:40:21.582185"
    },
    "collapsed": true
   },
   "outputs": [],
   "source": [
    "unsolved = df[df[\"Crime Solved\"] != \"Yes\"]"
   ]
  },
  {
   "cell_type": "code",
   "execution_count": null,
   "metadata": {
    "ExecuteTime": {
     "end_time": "2017-03-01T23:40:21.822750",
     "start_time": "2017-03-01T23:40:21.780243"
    },
    "collapsed": false
   },
   "outputs": [],
   "source": [
    "unsolved.head()"
   ]
  },
  {
   "cell_type": "code",
   "execution_count": null,
   "metadata": {
    "ExecuteTime": {
     "end_time": "2017-03-01T23:40:21.981283",
     "start_time": "2017-03-01T23:40:21.824928"
    },
    "collapsed": false
   },
   "outputs": [],
   "source": [
    "unsolved.describe()"
   ]
  },
  {
   "cell_type": "code",
   "execution_count": null,
   "metadata": {
    "ExecuteTime": {
     "end_time": "2017-03-01T23:40:22.452375",
     "start_time": "2017-03-01T23:40:21.984579"
    },
    "collapsed": false
   },
   "outputs": [],
   "source": [
    "plt.rcParams[\"figure.figsize\"] = (20,7)\n",
    "unsolved['Year'].value_counts().sort_index(ascending=True).plot(kind='line')\n",
    "plt.title('Number of Unsolved Homicides: 1980 to 2014')"
   ]
  },
  {
   "cell_type": "code",
   "execution_count": null,
   "metadata": {
    "ExecuteTime": {
     "end_time": "2017-03-01T23:40:22.472348",
     "start_time": "2017-03-01T23:40:22.455049"
    },
    "collapsed": true
   },
   "outputs": [],
   "source": [
    "dict_states = {'Alaska':'AK','Alabama':'AL','Arkansas':'AR','Arizona':'AZ', 'California':'CA', 'Colorado':'CO', 'Connecticut':'CT', \n",
    "'District of Columbia':'DC', 'Delaware':'DE', 'Florida':'FL', 'Georgia':'GA', 'Hawaii':'HI', 'Iowa':'IA', \n",
    "'Idaho':'ID', 'Illinois':'IL', 'Indiana':'IN', 'Kansas':'KS', 'Kentucky':'KY', 'Louisiana':'LA', \n",
    "'Massachusetts':'MA', 'Maryland':'MD', 'Maine':'ME', 'Michigan':'MI', 'Minnesota':'MN', 'Missouri':'MO', \n",
    "'Mississippi':'MS', 'Montana':'MT', 'North Carolina':'NC', 'North Dakota':'ND', 'Nebraska':'NE', \n",
    "'New Hampshire':'NH', 'New Jersey':'NJ', 'New Mexico':'NM', 'Nevada':'NV', 'New York':'NY', 'Ohio':'OH', \n",
    "'Oklahoma':'OK', 'Oregon':'OR', 'Pennsylvania':'PA', 'Puerto Rico':'PR', 'Rhode Island':'RI', \n",
    "'South Carolina':'SC', 'South Dakota':'SD', 'Tennessee':'TN', 'Texas':'TX', 'Utah':'UT', \n",
    "'Virginia':'VA', 'Vermont':'VT', 'Washington':'WA', 'Wisconsin':'WI', 'West Virginia':'WV', 'Wyoming':'WY'}\n"
   ]
  },
  {
   "cell_type": "code",
   "execution_count": null,
   "metadata": {
    "ExecuteTime": {
     "end_time": "2017-03-01T23:40:22.483247",
     "start_time": "2017-03-01T23:40:22.476034"
    },
    "collapsed": false
   },
   "outputs": [],
   "source": [
    "abb_st = [val for val in dict_states.values()]    \n",
    "len(abb_st)"
   ]
  },
  {
   "cell_type": "code",
   "execution_count": null,
   "metadata": {
    "ExecuteTime": {
     "end_time": "2017-03-01T23:40:23.795056",
     "start_time": "2017-03-01T23:40:22.485931"
    },
    "collapsed": false,
    "scrolled": false
   },
   "outputs": [],
   "source": [
    "plt.rcParams[\"figure.figsize\"] = (20,7)\n",
    "ax = sns.countplot(x=\"State\", hue=\"Weapon\", data=unsolved[unsolved[\"Weapon\"]==\"Handgun\"])\n",
    "ax.set_xticklabels(abb_st)\n",
    "plt.title(\"Unsolved Homicides Caused By Handguns\")"
   ]
  },
  {
   "cell_type": "code",
   "execution_count": null,
   "metadata": {
    "ExecuteTime": {
     "end_time": "2017-03-01T23:40:23.865895",
     "start_time": "2017-03-01T23:40:23.797580"
    },
    "collapsed": false
   },
   "outputs": [],
   "source": [
    "unsolved['Weapon'].value_counts()"
   ]
  },
  {
   "cell_type": "code",
   "execution_count": null,
   "metadata": {
    "ExecuteTime": {
     "end_time": "2017-03-01T23:40:23.909690",
     "start_time": "2017-03-01T23:40:23.878727"
    },
    "collapsed": true
   },
   "outputs": [],
   "source": [
    "plt.rcParams[\"figure.figsize\"] = (15,10)"
   ]
  },
  {
   "cell_type": "code",
   "execution_count": null,
   "metadata": {
    "ExecuteTime": {
     "end_time": "2017-03-01T23:40:24.517359",
     "start_time": "2017-03-01T23:40:23.916540"
    },
    "collapsed": false
   },
   "outputs": [],
   "source": [
    "unsolved['Weapon'].value_counts().plot(kind='bar')"
   ]
  },
  {
   "cell_type": "code",
   "execution_count": null,
   "metadata": {
    "ExecuteTime": {
     "end_time": "2017-03-01T23:40:24.568061",
     "start_time": "2017-03-01T23:40:24.519824"
    },
    "collapsed": false
   },
   "outputs": [],
   "source": [
    "bar = vincent.Bar(unsolved['State'].value_counts())\n",
    "bar\n",
    "bar.x_axis_properties(label_angle = 180+90, label_align = \"right\")\n",
    "bar.legend(title = \"Unsolved Homicides: Weapons Involved\")"
   ]
  },
  {
   "cell_type": "code",
   "execution_count": null,
   "metadata": {
    "ExecuteTime": {
     "end_time": "2017-03-01T23:40:24.608827",
     "start_time": "2017-03-01T23:40:24.572538"
    },
    "collapsed": true
   },
   "outputs": [],
   "source": [
    "# Team_Before = df['Punches Before'].groupby(df['Team'])\n",
    "rel = unsolved['Weapon'].groupby(unsolved['Victim Sex'])"
   ]
  },
  {
   "cell_type": "code",
   "execution_count": null,
   "metadata": {
    "ExecuteTime": {
     "end_time": "2017-03-01T23:40:25.139181",
     "start_time": "2017-03-01T23:40:24.612726"
    },
    "collapsed": false
   },
   "outputs": [],
   "source": [
    "rel.size().plot(kind='bar')"
   ]
  },
  {
   "cell_type": "markdown",
   "metadata": {},
   "source": [
    "Significant majority of victims in unsolved homicides are males."
   ]
  },
  {
   "cell_type": "markdown",
   "metadata": {},
   "source": [
    "## Month"
   ]
  },
  {
   "cell_type": "code",
   "execution_count": null,
   "metadata": {
    "ExecuteTime": {
     "end_time": "2017-03-01T23:40:25.666305",
     "start_time": "2017-03-01T23:40:25.141442"
    },
    "collapsed": false
   },
   "outputs": [],
   "source": [
    "unsolved[\"Month\"].value_counts().plot(kind=\"bar\")"
   ]
  },
  {
   "cell_type": "markdown",
   "metadata": {},
   "source": [
    "## Agency Type\n",
    "What kind of agencies contribute to the unsolved homicide statistics? "
   ]
  },
  {
   "cell_type": "code",
   "execution_count": null,
   "metadata": {
    "ExecuteTime": {
     "end_time": "2017-03-01T23:40:26.193497",
     "start_time": "2017-03-01T23:40:25.668987"
    },
    "collapsed": false
   },
   "outputs": [],
   "source": [
    "unsolved[\"Agency Type\"].value_counts().plot(kind=\"bar\")\n",
    "#plt.yscale('log', nonposy='clip')"
   ]
  },
  {
   "cell_type": "markdown",
   "metadata": {},
   "source": [
    "## Removing Death by Negligence\n",
    "\n",
    "Let's remove accidental deaths"
   ]
  },
  {
   "cell_type": "code",
   "execution_count": null,
   "metadata": {
    "ExecuteTime": {
     "end_time": "2017-03-01T23:40:26.264755",
     "start_time": "2017-03-01T23:40:26.196476"
    },
    "collapsed": false
   },
   "outputs": [],
   "source": [
    "unsolved[\"Crime Type\"].unique()"
   ]
  },
  {
   "cell_type": "markdown",
   "metadata": {},
   "source": [
    "Where are potential serial killers hiding? In plain sight in large cities, or in small towns?"
   ]
  },
  {
   "cell_type": "code",
   "execution_count": null,
   "metadata": {
    "ExecuteTime": {
     "end_time": "2017-03-01T23:40:26.464283",
     "start_time": "2017-03-01T23:40:26.267406"
    },
    "collapsed": false
   },
   "outputs": [],
   "source": [
    "pot_sk = unsolved[unsolved[\"Crime Type\"] == \"Murder or Manslaughter\"]\n",
    "pot_sk.head()"
   ]
  },
  {
   "cell_type": "code",
   "execution_count": null,
   "metadata": {
    "ExecuteTime": {
     "end_time": "2017-03-01T23:40:26.472662",
     "start_time": "2017-03-01T23:40:26.466835"
    },
    "collapsed": false
   },
   "outputs": [],
   "source": [
    "pot_sk.shape"
   ]
  },
  {
   "cell_type": "code",
   "execution_count": null,
   "metadata": {
    "ExecuteTime": {
     "end_time": "2017-03-01T23:40:27.108639",
     "start_time": "2017-03-01T23:40:26.474831"
    },
    "collapsed": false
   },
   "outputs": [],
   "source": [
    "pot_sk[\"City\"].value_counts().head(10).plot(kind=\"bar\")\n",
    "plt.title(\"Top 10 Cities: Unsolved Murders or Manslaughters\")"
   ]
  },
  {
   "cell_type": "markdown",
   "metadata": {},
   "source": [
    "Some of the smaller cities have just 1 unsolved homicide. Serial Killers are defined as those having atleast 3 [victims](https://books.google.com/books?id=0yfoJz6jHwkC&pg=PA1#v=onepage&q&f=false). Let's put the threshold at 5 unsolved for the city."
   ]
  },
  {
   "cell_type": "code",
   "execution_count": null,
   "metadata": {
    "ExecuteTime": {
     "end_time": "2017-03-01T23:40:28.565552",
     "start_time": "2017-03-01T23:40:27.111353"
    },
    "collapsed": false
   },
   "outputs": [],
   "source": [
    "pot_sk[\"City\"].value_counts().tail(10).plot(kind=\"bar\")\n",
    "plt.title(\"Bottom 10 Cities: Unsolved Murders or Manslaughters\")\n",
    "\n",
    "pot_sk.groupby(\"City\").filter(lambda x: len(x)>5)"
   ]
  },
  {
   "cell_type": "code",
   "execution_count": null,
   "metadata": {
    "ExecuteTime": {
     "end_time": "2017-03-01T23:40:29.539065",
     "start_time": "2017-03-01T23:40:28.568080"
    },
    "collapsed": false
   },
   "outputs": [],
   "source": [
    "two_or_more = pot_sk.groupby(\"City\").filter(lambda x: len(x)>5)\n",
    "two_or_more[\"City\"].value_counts().tail(10).plot(kind=\"bar\")"
   ]
  },
  {
   "cell_type": "markdown",
   "metadata": {
    "ExecuteTime": {
     "end_time": "2017-03-01T22:33:57.436450",
     "start_time": "2017-03-01T22:33:57.345848"
    }
   },
   "source": [
    "## Exploring Relationship Between Victims and Perpetrators"
   ]
  },
  {
   "cell_type": "code",
   "execution_count": null,
   "metadata": {
    "ExecuteTime": {
     "end_time": "2017-03-01T23:40:29.655059",
     "start_time": "2017-03-01T23:40:29.541705"
    },
    "collapsed": false
   },
   "outputs": [],
   "source": [
    "df[\"Relationship\"].unique()"
   ]
  },
  {
   "cell_type": "code",
   "execution_count": null,
   "metadata": {
    "ExecuteTime": {
     "end_time": "2017-03-01T23:40:30.127501",
     "start_time": "2017-03-01T23:40:29.658504"
    },
    "collapsed": false,
    "scrolled": true
   },
   "outputs": [],
   "source": [
    "known = df[df[\"Relationship\"] != \"Unknown\"]\n",
    "known.head()"
   ]
  },
  {
   "cell_type": "code",
   "execution_count": null,
   "metadata": {
    "ExecuteTime": {
     "end_time": "2017-03-01T23:40:30.210786",
     "start_time": "2017-03-01T23:40:30.130960"
    },
    "collapsed": false
   },
   "outputs": [],
   "source": [
    "known[\"Relationship\"].value_counts()"
   ]
  },
  {
   "cell_type": "code",
   "execution_count": null,
   "metadata": {
    "ExecuteTime": {
     "end_time": "2017-03-01T23:40:31.270785",
     "start_time": "2017-03-01T23:40:30.215614"
    },
    "collapsed": false
   },
   "outputs": [],
   "source": [
    "plt.rcParams[\"figure.figsize\"] = (20,5)\n",
    "known[\"Relationship\"].value_counts().plot(kind=\"bar\")\n",
    "plt.title(\"Relationsip of Victim to Perpetrator\")\n",
    "plt.yscale('log', nonposy='clip')"
   ]
  },
  {
   "cell_type": "markdown",
   "metadata": {},
   "source": [
    "## Race\n",
    "Is there a racial angle to these homicides?"
   ]
  },
  {
   "cell_type": "code",
   "execution_count": null,
   "metadata": {
    "ExecuteTime": {
     "end_time": "2017-03-01T23:40:31.354261",
     "start_time": "2017-03-01T23:40:31.272843"
    },
    "collapsed": false,
    "scrolled": true
   },
   "outputs": [],
   "source": [
    "df.head(2)"
   ]
  },
  {
   "cell_type": "code",
   "execution_count": null,
   "metadata": {
    "ExecuteTime": {
     "end_time": "2017-03-01T23:40:31.425581",
     "start_time": "2017-03-01T23:40:31.361833"
    },
    "collapsed": false
   },
   "outputs": [],
   "source": [
    "df[\"Perpetrator Race\"].unique()"
   ]
  },
  {
   "cell_type": "code",
   "execution_count": null,
   "metadata": {
    "ExecuteTime": {
     "end_time": "2017-03-01T23:40:31.440329",
     "start_time": "2017-03-01T23:40:31.428593"
    },
    "collapsed": false
   },
   "outputs": [],
   "source": [
    "df.columns"
   ]
  },
  {
   "cell_type": "code",
   "execution_count": null,
   "metadata": {
    "ExecuteTime": {
     "end_time": "2017-03-01T23:40:31.785157",
     "start_time": "2017-03-01T23:40:31.447082"
    },
    "collapsed": false
   },
   "outputs": [],
   "source": [
    "pd.pivot_table(known,index=[\"Victim Race\",\"Perpetrator Race\"],values=[\"Victim Count\"],aggfunc=[np.sum])\n",
    "               #columns=[\"Product\"],aggfunc=[np.sum])"
   ]
  },
  {
   "cell_type": "markdown",
   "metadata": {},
   "source": [
    "It looks like most people are killed by people from their own racial background."
   ]
  }
 ],
 "metadata": {
  "anaconda-cloud": {},
  "kernelspec": {
   "display_name": "Python [conda env:py3]",
   "language": "python",
   "name": "conda-env-py3-py"
  },
  "language_info": {
   "codemirror_mode": {
    "name": "ipython",
    "version": 3
   },
   "file_extension": ".py",
   "mimetype": "text/x-python",
   "name": "python",
   "nbconvert_exporter": "python",
   "pygments_lexer": "ipython3",
   "version": "3.5.2"
  },
  "toc": {
   "colors": {
    "hover_highlight": "#DAA520",
    "running_highlight": "#FF0000",
    "selected_highlight": "#FFD700"
   },
   "moveMenuLeft": true,
   "nav_menu": {
    "height": "12px",
    "width": "252px"
   },
   "navigate_menu": true,
   "number_sections": true,
   "sideBar": true,
   "threshold": 4,
   "toc_cell": true,
   "toc_section_display": "block",
   "toc_window_display": false
  }
 },
 "nbformat": 4,
 "nbformat_minor": 2
}
