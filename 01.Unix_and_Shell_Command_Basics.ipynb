{
 "cells": [
  {
   "cell_type": "markdown",
   "metadata": {
    "hideCode": false,
    "hidePrompt": false,
    "toc": "true"
   },
   "source": [
    "# Table of Contents\n",
    " <p><div class=\"lev1 toc-item\"><a href=\"#Overview\" data-toc-modified-id=\"Overview-1\"><span class=\"toc-item-num\">1&nbsp;&nbsp;</span>Overview</a></div><div class=\"lev2 toc-item\"><a href=\"#pwd---Print-Working-Directory\" data-toc-modified-id=\"pwd---Print-Working-Directory-11\"><span class=\"toc-item-num\">1.1&nbsp;&nbsp;</span>pwd - Print Working Directory</a></div><div class=\"lev2 toc-item\"><a href=\"#ls---List-files-and-directory-names,-attributes\" data-toc-modified-id=\"ls---List-files-and-directory-names,-attributes-12\"><span class=\"toc-item-num\">1.2&nbsp;&nbsp;</span>ls - List files and directory names, attributes</a></div><div class=\"lev2 toc-item\"><a href=\"#mkdir---Make-a-new-directory\" data-toc-modified-id=\"mkdir---Make-a-new-directory-13\"><span class=\"toc-item-num\">1.3&nbsp;&nbsp;</span>mkdir - Make a new directory</a></div><div class=\"lev2 toc-item\"><a href=\"#cd---Change-to-a-particular-directory\" data-toc-modified-id=\"cd---Change-to-a-particular-directory-14\"><span class=\"toc-item-num\">1.4&nbsp;&nbsp;</span>cd - Change to a particular directory</a></div><div class=\"lev2 toc-item\"><a href=\"#rmdir---Remove-a-directory\" data-toc-modified-id=\"rmdir---Remove-a-directory-15\"><span class=\"toc-item-num\">1.5&nbsp;&nbsp;</span>rmdir - Remove a directory</a></div><div class=\"lev2 toc-item\"><a href=\"#cp---Copy-Files\" data-toc-modified-id=\"cp---Copy-Files-16\"><span class=\"toc-item-num\">1.6&nbsp;&nbsp;</span>cp - Copy Files</a></div><div class=\"lev2 toc-item\"><a href=\"#rm---Remove-files\" data-toc-modified-id=\"rm---Remove-files-17\"><span class=\"toc-item-num\">1.7&nbsp;&nbsp;</span>rm - Remove files</a></div><div class=\"lev2 toc-item\"><a href=\"#mv-:-Move-a-file\" data-toc-modified-id=\"mv-:-Move-a-file-18\"><span class=\"toc-item-num\">1.8&nbsp;&nbsp;</span>mv : Move a file</a></div><div class=\"lev2 toc-item\"><a href=\"#CURL---Getting-Data-from-the-Command-Line\" data-toc-modified-id=\"CURL---Getting-Data-from-the-Command-Line-19\"><span class=\"toc-item-num\">1.9&nbsp;&nbsp;</span>CURL - Getting Data from the Command Line</a></div><div class=\"lev2 toc-item\"><a href=\"#head/tail\" data-toc-modified-id=\"head/tail-110\"><span class=\"toc-item-num\">1.10&nbsp;&nbsp;</span>head/tail</a></div><div class=\"lev2 toc-item\"><a href=\"#grep:\" data-toc-modified-id=\"grep:-111\"><span class=\"toc-item-num\">1.11&nbsp;&nbsp;</span>grep:</a></div><div class=\"lev2 toc-item\"><a href=\"#Redirection-(or-Downloading)\" data-toc-modified-id=\"Redirection-(or-Downloading)-112\"><span class=\"toc-item-num\">1.12&nbsp;&nbsp;</span>Redirection (or Downloading)</a></div>"
   ]
  },
  {
   "cell_type": "markdown",
   "metadata": {
    "hideCode": false,
    "hidePrompt": false
   },
   "source": [
    "# Overview"
   ]
  },
  {
   "cell_type": "markdown",
   "metadata": {
    "hideCode": false,
    "hidePrompt": false
   },
   "source": [
    "This is by no means an exhaustive list, the point is just to give you a feeler for what's possible. If you have used Linux or Mac, or have written code in Ruby, chances are you have used Unix commands already. If you're a Windows user, here's a good resource: https://www.howtogeek.com/249966/how-to-install-and-use-the-linux-bash-shell-on-windows-10/\n",
    "\n",
    "Another great resource in general on the basics of unix commands:\n",
    "* http://matt.might.net/articles/basic-unix/"
   ]
  },
  {
   "cell_type": "markdown",
   "metadata": {
    "hideCode": false,
    "hidePrompt": false
   },
   "source": [
    "## pwd - Print Working Directory"
   ]
  },
  {
   "cell_type": "code",
   "execution_count": 1,
   "metadata": {
    "collapsed": false,
    "hideCode": false,
    "hidePrompt": false
   },
   "outputs": [
    {
     "name": "stdout",
     "output_type": "stream",
     "text": [
      "/Volumes/HDD3TB/05. Work/03. Udemy/02. Drafts\r\n"
     ]
    }
   ],
   "source": [
    "!pwd"
   ]
  },
  {
   "cell_type": "markdown",
   "metadata": {
    "hideCode": false,
    "hidePrompt": false
   },
   "source": [
    "## ls - List files and directory names, attributes"
   ]
  },
  {
   "cell_type": "markdown",
   "metadata": {
    "hideCode": false,
    "hidePrompt": false
   },
   "source": [
    "Some commonly used commands are below:\n",
    "* -A: list all of the contents of the queried directory, even hidden files.\n",
    "* -l: detailed format, display additional info for all files and directories.\n",
    "* -R: recursively list the contents of any subdirectories.\n",
    "* -t: sort files by the time of the last modification.\n",
    "* -S: sort files by size.\n",
    "* -r: reverse any sort order.\n",
    "* -h: when used in conjunction with -l, gives a more human-readable output.\n",
    "\n",
    "You can also combine the commands/flags. \n",
    "For example:\n",
    "* -al\n",
    "* -Al\n",
    "\n",
    "Read more on this topic here: https://www.mkssoftware.com/docs/man1/ls.1.asp"
   ]
  },
  {
   "cell_type": "code",
   "execution_count": 2,
   "metadata": {
    "collapsed": false,
    "hideCode": false,
    "hidePrompt": false
   },
   "outputs": [
    {
     "name": "stdout",
     "output_type": "stream",
     "text": [
      "01.Unix_and_Shell_Command_Basics.ipynb  10.Visualise_This-Tutorial01.ipynb\r\n",
      "02.Python_Basics.ipynb                  11.Introduction_to_Numpy.ipynb\r\n",
      "03.All_about_Numbers.ipynb              12.Introduction_to_Pandas.ipynb\r\n",
      "04.String_me_along.ipynb                13. Introduction_to_SciKitLearn.ipynb\r\n",
      "05.Booleans_True_or_False.ipynb         Case Study 1.ipynb\r\n",
      "06.List_it_out.ipynb                    \u001b[34mData\u001b[m\u001b[m/\r\n",
      "07.Loop_it_up.ipynb                     \u001b[34mTempFolder02\u001b[m\u001b[m/\r\n",
      "08.Let_it_Function.ipynb                \u001b[34mimages\u001b[m\u001b[m/\r\n",
      "09.Reading_writing_files.ipynb\r\n"
     ]
    }
   ],
   "source": [
    "ls"
   ]
  },
  {
   "cell_type": "code",
   "execution_count": 3,
   "metadata": {
    "collapsed": false,
    "hideCode": false,
    "hidePrompt": false
   },
   "outputs": [
    {
     "name": "stdout",
     "output_type": "stream",
     "text": [
      "01.Unix_and_Shell_Command_Basics.ipynb 10.Visualise_This-Tutorial01.ipynb\r\n",
      "02.Python_Basics.ipynb                 11.Introduction_to_Numpy.ipynb\r\n",
      "03.All_about_Numbers.ipynb             12.Introduction_to_Pandas.ipynb\r\n",
      "04.String_me_along.ipynb               13. Introduction_to_SciKitLearn.ipynb\r\n",
      "05.Booleans_True_or_False.ipynb        Case Study 1.ipynb\r\n",
      "06.List_it_out.ipynb                   \u001b[34mData\u001b[m\u001b[m\r\n",
      "07.Loop_it_up.ipynb                    \u001b[34mTempFolder02\u001b[m\u001b[m\r\n",
      "08.Let_it_Function.ipynb               \u001b[34mimages\u001b[m\u001b[m\r\n",
      "09.Reading_writing_files.ipynb\r\n"
     ]
    }
   ],
   "source": [
    "!ls"
   ]
  },
  {
   "cell_type": "code",
   "execution_count": null,
   "metadata": {
    "collapsed": false,
    "hideCode": false,
    "hidePrompt": false
   },
   "outputs": [],
   "source": [
    "ls -al"
   ]
  },
  {
   "cell_type": "code",
   "execution_count": null,
   "metadata": {
    "collapsed": false,
    "hideCode": false,
    "hidePrompt": false
   },
   "outputs": [],
   "source": [
    "ls -Al"
   ]
  },
  {
   "cell_type": "markdown",
   "metadata": {
    "collapsed": true,
    "hideCode": false,
    "hidePrompt": false
   },
   "source": [
    "## mkdir - Make a new directory"
   ]
  },
  {
   "cell_type": "code",
   "execution_count": null,
   "metadata": {
    "collapsed": false,
    "hideCode": false,
    "hidePrompt": false
   },
   "outputs": [],
   "source": [
    "!mkdir NewFolder"
   ]
  },
  {
   "cell_type": "code",
   "execution_count": null,
   "metadata": {
    "collapsed": false,
    "hideCode": false,
    "hidePrompt": false
   },
   "outputs": [],
   "source": [
    "ls"
   ]
  },
  {
   "cell_type": "markdown",
   "metadata": {
    "hideCode": false,
    "hidePrompt": false
   },
   "source": [
    "## cd - Change to a particular directory"
   ]
  },
  {
   "cell_type": "code",
   "execution_count": null,
   "metadata": {
    "collapsed": false,
    "hideCode": false,
    "hidePrompt": false
   },
   "outputs": [],
   "source": [
    "cd NewFolder"
   ]
  },
  {
   "cell_type": "code",
   "execution_count": null,
   "metadata": {
    "collapsed": false,
    "hideCode": false,
    "hidePrompt": false
   },
   "outputs": [],
   "source": [
    "cd .."
   ]
  },
  {
   "cell_type": "code",
   "execution_count": null,
   "metadata": {
    "collapsed": false,
    "hideCode": false,
    "hidePrompt": false
   },
   "outputs": [],
   "source": [
    "ls"
   ]
  },
  {
   "cell_type": "markdown",
   "metadata": {
    "hideCode": false,
    "hidePrompt": false
   },
   "source": [
    "## rmdir - Remove a directory"
   ]
  },
  {
   "cell_type": "markdown",
   "metadata": {
    "hideCode": false,
    "hidePrompt": false
   },
   "source": [
    "If the folder is not empty, it need the \"-r\" flag. \n",
    "\n",
    "Example:\n",
    "rmdir -r NewFolder "
   ]
  },
  {
   "cell_type": "code",
   "execution_count": null,
   "metadata": {
    "collapsed": true,
    "hideCode": false,
    "hidePrompt": false
   },
   "outputs": [],
   "source": [
    "rmdir NewFolder"
   ]
  },
  {
   "cell_type": "code",
   "execution_count": null,
   "metadata": {
    "collapsed": false,
    "hideCode": false,
    "hidePrompt": false
   },
   "outputs": [],
   "source": [
    "ls"
   ]
  },
  {
   "cell_type": "markdown",
   "metadata": {
    "hideCode": false,
    "hidePrompt": false
   },
   "source": [
    "## cp - Copy Files"
   ]
  },
  {
   "cell_type": "markdown",
   "metadata": {
    "hideCode": false,
    "hidePrompt": false
   },
   "source": [
    "Careful with the filenames! Will be overwritten without warning."
   ]
  },
  {
   "cell_type": "code",
   "execution_count": null,
   "metadata": {
    "collapsed": false,
    "hideCode": false,
    "hidePrompt": false
   },
   "outputs": [],
   "source": [
    "ls"
   ]
  },
  {
   "cell_type": "code",
   "execution_count": null,
   "metadata": {
    "collapsed": false,
    "hideCode": false,
    "hidePrompt": false
   },
   "outputs": [],
   "source": [
    "# Copy in the same directory\n",
    "!cp 01.Unix_and_Shell_Command_Basics.ipynb Notebook01.ipynb "
   ]
  },
  {
   "cell_type": "code",
   "execution_count": null,
   "metadata": {
    "collapsed": false,
    "hideCode": false,
    "hidePrompt": false
   },
   "outputs": [],
   "source": [
    "ls"
   ]
  },
  {
   "cell_type": "code",
   "execution_count": null,
   "metadata": {
    "collapsed": true,
    "hideCode": false,
    "hidePrompt": false
   },
   "outputs": [],
   "source": [
    "rm Notebook01.ipynb"
   ]
  },
  {
   "cell_type": "code",
   "execution_count": null,
   "metadata": {
    "collapsed": false,
    "hideCode": false,
    "hidePrompt": false
   },
   "outputs": [],
   "source": [
    "ls"
   ]
  },
  {
   "cell_type": "code",
   "execution_count": null,
   "metadata": {
    "collapsed": false,
    "hideCode": false,
    "hidePrompt": false
   },
   "outputs": [],
   "source": [
    "# Copy to another directory\n",
    "!mkdir TempFolder\n",
    "!cp 01.Unix_and_Shell_Command_Basics.ipynb TempFolder/File01.ipynb\n",
    "!ls"
   ]
  },
  {
   "cell_type": "code",
   "execution_count": null,
   "metadata": {
    "collapsed": false,
    "hideCode": false,
    "hidePrompt": false
   },
   "outputs": [],
   "source": [
    "cd TempFolder"
   ]
  },
  {
   "cell_type": "code",
   "execution_count": null,
   "metadata": {
    "collapsed": false,
    "hideCode": false,
    "hidePrompt": false
   },
   "outputs": [],
   "source": [
    "ls"
   ]
  },
  {
   "cell_type": "markdown",
   "metadata": {
    "hideCode": false,
    "hidePrompt": false
   },
   "source": [
    "## rm - Remove files"
   ]
  },
  {
   "cell_type": "markdown",
   "metadata": {
    "hideCode": false,
    "hidePrompt": false
   },
   "source": [
    "Note that this is different to rmdir, which exists to remove a directory\n"
   ]
  },
  {
   "cell_type": "code",
   "execution_count": null,
   "metadata": {
    "collapsed": false,
    "hideCode": false,
    "hidePrompt": false
   },
   "outputs": [],
   "source": [
    "ls"
   ]
  },
  {
   "cell_type": "code",
   "execution_count": null,
   "metadata": {
    "collapsed": false,
    "hideCode": false,
    "hidePrompt": false
   },
   "outputs": [],
   "source": [
    "pwd"
   ]
  },
  {
   "cell_type": "code",
   "execution_count": null,
   "metadata": {
    "collapsed": true,
    "hideCode": false,
    "hidePrompt": false
   },
   "outputs": [],
   "source": [
    "!rm File01.ipynb"
   ]
  },
  {
   "cell_type": "code",
   "execution_count": null,
   "metadata": {
    "collapsed": true,
    "hideCode": false,
    "hidePrompt": false
   },
   "outputs": [],
   "source": [
    "!ls"
   ]
  },
  {
   "cell_type": "code",
   "execution_count": null,
   "metadata": {
    "collapsed": false,
    "hideCode": false,
    "hidePrompt": false
   },
   "outputs": [],
   "source": [
    "!pwd"
   ]
  },
  {
   "cell_type": "code",
   "execution_count": null,
   "metadata": {
    "collapsed": false,
    "hideCode": false,
    "hidePrompt": false
   },
   "outputs": [],
   "source": [
    "!ls -al"
   ]
  },
  {
   "cell_type": "code",
   "execution_count": null,
   "metadata": {
    "collapsed": true,
    "hideCode": false,
    "hidePrompt": false
   },
   "outputs": [],
   "source": [
    "!cd .."
   ]
  },
  {
   "cell_type": "code",
   "execution_count": null,
   "metadata": {
    "collapsed": false,
    "hideCode": false,
    "hidePrompt": false
   },
   "outputs": [],
   "source": [
    "!pwd"
   ]
  },
  {
   "cell_type": "code",
   "execution_count": null,
   "metadata": {
    "collapsed": true,
    "hideCode": false,
    "hidePrompt": false
   },
   "outputs": [],
   "source": [
    "!ls"
   ]
  },
  {
   "cell_type": "code",
   "execution_count": null,
   "metadata": {
    "collapsed": false,
    "hideCode": false,
    "hidePrompt": false
   },
   "outputs": [],
   "source": [
    "cd .."
   ]
  },
  {
   "cell_type": "code",
   "execution_count": null,
   "metadata": {
    "collapsed": false,
    "hideCode": false,
    "hidePrompt": false
   },
   "outputs": [],
   "source": [
    "ls"
   ]
  },
  {
   "cell_type": "code",
   "execution_count": null,
   "metadata": {
    "collapsed": true,
    "hideCode": false,
    "hidePrompt": false
   },
   "outputs": [],
   "source": [
    "cp -i 01.Unix_and_Shell_Command_Basics.ipynb TempFolder/NewFile01.ipynb"
   ]
  },
  {
   "cell_type": "code",
   "execution_count": null,
   "metadata": {
    "collapsed": false,
    "hideCode": false,
    "hidePrompt": false
   },
   "outputs": [],
   "source": [
    "cd Tempfolder"
   ]
  },
  {
   "cell_type": "code",
   "execution_count": null,
   "metadata": {
    "collapsed": false,
    "hideCode": false,
    "hidePrompt": false
   },
   "outputs": [],
   "source": [
    "ls"
   ]
  },
  {
   "cell_type": "code",
   "execution_count": null,
   "metadata": {
    "collapsed": false,
    "hideCode": false,
    "hidePrompt": false
   },
   "outputs": [],
   "source": [
    "cp -i NewFile01.ipynb NewFile01.ipynb"
   ]
  },
  {
   "cell_type": "markdown",
   "metadata": {
    "hideCode": false,
    "hidePrompt": false
   },
   "source": [
    "## mv : Move a file"
   ]
  },
  {
   "cell_type": "markdown",
   "metadata": {
    "hideCode": false,
    "hidePrompt": false
   },
   "source": [
    "This is close to the the 'cut' function available for files on Windows.\n",
    "\n",
    "When you use the 'mv' command, a file is copied to a new location, and removed from it's original location."
   ]
  },
  {
   "cell_type": "code",
   "execution_count": null,
   "metadata": {
    "collapsed": false,
    "hideCode": false,
    "hidePrompt": false
   },
   "outputs": [],
   "source": [
    "pwd"
   ]
  },
  {
   "cell_type": "code",
   "execution_count": null,
   "metadata": {
    "collapsed": false,
    "hideCode": false,
    "hidePrompt": false
   },
   "outputs": [],
   "source": [
    "ls"
   ]
  },
  {
   "cell_type": "code",
   "execution_count": null,
   "metadata": {
    "collapsed": false,
    "hideCode": false,
    "hidePrompt": false
   },
   "outputs": [],
   "source": [
    "rm -r TempFolder"
   ]
  },
  {
   "cell_type": "code",
   "execution_count": null,
   "metadata": {
    "collapsed": false,
    "hideCode": false,
    "hidePrompt": false
   },
   "outputs": [],
   "source": [
    "ls"
   ]
  },
  {
   "cell_type": "code",
   "execution_count": null,
   "metadata": {
    "collapsed": true,
    "hideCode": false,
    "hidePrompt": false
   },
   "outputs": [],
   "source": [
    "cp 01.Unix_and_Shell_Command_Basics.ipynb NewFile01.ipynb"
   ]
  },
  {
   "cell_type": "code",
   "execution_count": null,
   "metadata": {
    "collapsed": false,
    "hideCode": false,
    "hidePrompt": false
   },
   "outputs": [],
   "source": [
    "ls"
   ]
  },
  {
   "cell_type": "code",
   "execution_count": null,
   "metadata": {
    "collapsed": true,
    "hideCode": false,
    "hidePrompt": false
   },
   "outputs": [],
   "source": [
    "mkdir TempFolder02"
   ]
  },
  {
   "cell_type": "code",
   "execution_count": null,
   "metadata": {
    "collapsed": false,
    "hideCode": false,
    "hidePrompt": false
   },
   "outputs": [],
   "source": [
    "ls"
   ]
  },
  {
   "cell_type": "code",
   "execution_count": null,
   "metadata": {
    "collapsed": true,
    "hideCode": false,
    "hidePrompt": false
   },
   "outputs": [],
   "source": [
    "mv NewFile01.ipynb TempFolder02"
   ]
  },
  {
   "cell_type": "code",
   "execution_count": null,
   "metadata": {
    "collapsed": false,
    "hideCode": false,
    "hidePrompt": false
   },
   "outputs": [],
   "source": [
    "ls"
   ]
  },
  {
   "cell_type": "code",
   "execution_count": null,
   "metadata": {
    "collapsed": false,
    "hideCode": false,
    "hidePrompt": false
   },
   "outputs": [],
   "source": [
    "cd TempFolder02"
   ]
  },
  {
   "cell_type": "code",
   "execution_count": null,
   "metadata": {
    "collapsed": false,
    "hideCode": false,
    "hidePrompt": false
   },
   "outputs": [],
   "source": [
    "ls"
   ]
  },
  {
   "cell_type": "code",
   "execution_count": null,
   "metadata": {
    "collapsed": false,
    "hideCode": false,
    "hidePrompt": false
   },
   "outputs": [],
   "source": [
    "cd .."
   ]
  },
  {
   "cell_type": "markdown",
   "metadata": {
    "hideCode": false,
    "hidePrompt": false
   },
   "source": [
    "## CURL - Getting Data from the Command Line"
   ]
  },
  {
   "cell_type": "markdown",
   "metadata": {
    "hideCode": false,
    "hidePrompt": false
   },
   "source": [
    "Let's begin by copying a simple tab-separated file.\n",
    "The format is as below:\n",
    "\n",
    "* !curl -OptionalFlag 'http://url'"
   ]
  },
  {
   "cell_type": "code",
   "execution_count": null,
   "metadata": {
    "collapsed": false,
    "hideCode": false,
    "hidePrompt": false,
    "scrolled": true
   },
   "outputs": [],
   "source": [
    "!curl -L 'https://dl.dropboxusercontent.com/s/j2yh7nvlli1nsa5/gdp.txt'"
   ]
  },
  {
   "cell_type": "code",
   "execution_count": 38,
   "metadata": {
    "collapsed": false,
    "hideCode": false,
    "hidePrompt": false
   },
   "outputs": [
    {
     "name": "stdout",
     "output_type": "stream",
     "text": [
      "123\t1346699925\t11122\tfoo bar\r\n",
      "222\t1346699955\t11145\tbis baz\r\n",
      "120\t1346710100\t11122\thei hew\r\n",
      "234\t1346700000\t11135\tcip bop\r\n",
      "146\t1346699999\t11123\tfoo bar\r\n",
      "99\t1346750000\t11135\tbit bop\r\n",
      "99\t1346750000\t11135\tbop bip\r\n",
      "99\t1346750000\t11135\tbip bop\r\n",
      "99\t1346750000\t11135\tbip bop\r\n"
     ]
    }
   ],
   "source": [
    "!curl -L 'https://dl.dropboxusercontent.com/s/eqyhkf3tpgre0jb/foo.txt'"
   ]
  },
  {
   "cell_type": "code",
   "execution_count": null,
   "metadata": {
    "collapsed": false,
    "hideCode": false,
    "hidePrompt": false
   },
   "outputs": [],
   "source": [
    "!curl -s \"http://freegeoip.net/json/\" | jq ."
   ]
  },
  {
   "cell_type": "code",
   "execution_count": null,
   "metadata": {
    "collapsed": false,
    "hideCode": false,
    "hidePrompt": false
   },
   "outputs": [],
   "source": [
    "!curl -s \"http://api.open-notify.org/iss-now.json\""
   ]
  },
  {
   "cell_type": "code",
   "execution_count": null,
   "metadata": {
    "collapsed": false,
    "hideCode": false,
    "hidePrompt": false
   },
   "outputs": [],
   "source": [
    "!curl -s \"http://api.open-notify.org/astros.json\""
   ]
  },
  {
   "cell_type": "markdown",
   "metadata": {
    "hideCode": false,
    "hidePrompt": false,
    "hide_input": false
   },
   "source": [
    "Register for the Mashape API Market here: https://market.mashape.com"
   ]
  },
  {
   "cell_type": "code",
   "execution_count": null,
   "metadata": {
    "collapsed": false,
    "hideCode": false,
    "hidePrompt": false
   },
   "outputs": [],
   "source": [
    "!curl -X POST --include 'https://community-sentiment.p.mashape.com/text/' \\\n",
    "  -H 'X-Mashape-Key: YFWRiIyfNemshsFin8iTJy0XFUjNp1rXoY7jsnoPlVphvWnKY6' \\\n",
    "  -H 'Content-Type: application/x-www-form-urlencoded' \\\n",
    "  -H 'Accept: application/json' \\\n",
    "  -d 'txt=My team lost! :('"
   ]
  },
  {
   "cell_type": "markdown",
   "metadata": {},
   "source": [
    "Note: This is a free API, so I have exposed my API key in the code. In practice, if you are ever sharing code, please take adequate precautions, and never expose your private key."
   ]
  },
  {
   "cell_type": "markdown",
   "metadata": {
    "hideCode": false,
    "hidePrompt": false
   },
   "source": [
    "## head/tail"
   ]
  },
  {
   "cell_type": "code",
   "execution_count": 12,
   "metadata": {
    "collapsed": false,
    "hideCode": false,
    "hidePrompt": false
   },
   "outputs": [
    {
     "data": {
      "text/plain": [
       "'/Volumes/HDD3TB/05. Work/03. Udemy/02. Drafts'"
      ]
     },
     "execution_count": 12,
     "metadata": {},
     "output_type": "execute_result"
    }
   ],
   "source": [
    "pwd"
   ]
  },
  {
   "cell_type": "code",
   "execution_count": 13,
   "metadata": {
    "collapsed": false,
    "hideCode": false,
    "hidePrompt": false
   },
   "outputs": [
    {
     "name": "stdout",
     "output_type": "stream",
     "text": [
      "01.Unix_and_Shell_Command_Basics.ipynb  09.Reading_writing_files.ipynb\r\n",
      "02.Python_Basics.ipynb                  10.Visualise_This-Tutorial01.ipynb\r\n",
      "03.All_about_Numbers.ipynb              11.Introduction_to_Numpy.ipynb\r\n",
      "04.String_me_along.ipynb                12.Introduction_to_Pandas.ipynb\r\n",
      "05.Booleans_True_or_False.ipynb         13. Introduction_to_SciKitLearn.ipynb\r\n",
      "06.List_it_out.ipynb                    Case Study 1.ipynb\r\n",
      "07.Loop_it_up.ipynb                     \u001b[34mData\u001b[m\u001b[m/\r\n",
      "08.Let_it_Function.ipynb                \u001b[34mimages\u001b[m\u001b[m/\r\n"
     ]
    }
   ],
   "source": [
    "ls"
   ]
  },
  {
   "cell_type": "code",
   "execution_count": 14,
   "metadata": {
    "collapsed": false,
    "hideCode": false,
    "hidePrompt": false
   },
   "outputs": [
    {
     "name": "stdout",
     "output_type": "stream",
     "text": [
      "/Volumes/HDD3TB/05. Work/03. Udemy/02. Drafts/Data\n"
     ]
    }
   ],
   "source": [
    "cd Data"
   ]
  },
  {
   "cell_type": "code",
   "execution_count": 15,
   "metadata": {
    "collapsed": false,
    "hideCode": false,
    "hidePrompt": false
   },
   "outputs": [
    {
     "name": "stdout",
     "output_type": "stream",
     "text": [
      "Times_Square_Entertainment_Venues.csv  location.json\r\n",
      "cafe_sales.csv                         nyc_rest.csv\r\n",
      "cafe_sales2015.csv                     nyt.txt\r\n",
      "cafe_sales2015.txt                     sample.txt\r\n",
      "foo.txt                                venues.json\r\n",
      "gdp.csv                                \u001b[34mwine\u001b[m\u001b[m/\r\n",
      "gdp.txt\r\n"
     ]
    }
   ],
   "source": [
    "ls"
   ]
  },
  {
   "cell_type": "code",
   "execution_count": 16,
   "metadata": {
    "collapsed": false,
    "hideCode": false,
    "hidePrompt": false
   },
   "outputs": [
    {
     "name": "stdout",
     "output_type": "stream",
     "text": [
      "1\tChina\t21,269,331.00\r\n",
      "2\tUnited States\t$18,562,129.00\r\n",
      "3\tIndia\t$8,720,758.00\r\n"
     ]
    }
   ],
   "source": [
    "!head -n 3 sample.txt"
   ]
  },
  {
   "cell_type": "code",
   "execution_count": 17,
   "metadata": {
    "collapsed": false,
    "hideCode": false,
    "hidePrompt": false
   },
   "outputs": [
    {
     "name": "stdout",
     "output_type": "stream",
     "text": [
      "4\tJapan\t$4,932,102.00\r\n",
      "5\tGermany\t$3,979,664.00\r\n",
      "\r\n"
     ]
    }
   ],
   "source": [
    "!tail -n 3 sample.txt"
   ]
  },
  {
   "cell_type": "code",
   "execution_count": 18,
   "metadata": {
    "collapsed": false,
    "hideCode": false,
    "hidePrompt": false
   },
   "outputs": [
    {
     "name": "stdout",
     "output_type": "stream",
     "text": [
      "1\tChina\t21,269,331.00\r\n",
      "2\tUnited States\t$18,562,129.00\r\n",
      "3\tIndia\t$8,720,758.00\r\n",
      "4\tJapan\t$4,932,102.00\r\n",
      "5\tGermany\t$3,979,664.00\r\n",
      "\r\n"
     ]
    }
   ],
   "source": [
    "!cat sample.txt"
   ]
  },
  {
   "cell_type": "code",
   "execution_count": 22,
   "metadata": {
    "collapsed": false,
    "hideCode": false,
    "hidePrompt": false
   },
   "outputs": [
    {
     "name": "stdout",
     "output_type": "stream",
     "text": [
      "China\t21,269,331.00\r\n",
      "United States\t$18,562,129.00\r\n",
      "India\t$8,720,758.00\r\n",
      "Japan\t$4,932,102.00\r\n",
      "Germany\t$3,979,664.00\r\n",
      "\r\n"
     ]
    }
   ],
   "source": [
    "# Selecting specific fields\n",
    "!cut -f2,3 sample.txt"
   ]
  },
  {
   "cell_type": "code",
   "execution_count": null,
   "metadata": {
    "collapsed": false,
    "hideCode": false,
    "hidePrompt": false
   },
   "outputs": [],
   "source": [
    "!sort sample.txt"
   ]
  },
  {
   "cell_type": "code",
   "execution_count": null,
   "metadata": {
    "collapsed": false,
    "hideCode": false,
    "hidePrompt": false
   },
   "outputs": [],
   "source": [
    "!sort -k 2 sample.txt"
   ]
  },
  {
   "cell_type": "code",
   "execution_count": null,
   "metadata": {
    "collapsed": false,
    "hideCode": false,
    "hidePrompt": false
   },
   "outputs": [],
   "source": [
    "!wc sample.txt"
   ]
  },
  {
   "cell_type": "code",
   "execution_count": null,
   "metadata": {
    "collapsed": false,
    "hideCode": false,
    "hidePrompt": false
   },
   "outputs": [],
   "source": [
    "!wc -w sample.txt"
   ]
  },
  {
   "cell_type": "code",
   "execution_count": null,
   "metadata": {
    "collapsed": false,
    "hideCode": false,
    "hidePrompt": false
   },
   "outputs": [],
   "source": [
    "!find ~ -sample.txt 'sample.txt'"
   ]
  },
  {
   "cell_type": "markdown",
   "metadata": {
    "hideCode": false,
    "hidePrompt": false
   },
   "source": [
    "## grep:"
   ]
  },
  {
   "cell_type": "markdown",
   "metadata": {
    "hideCode": false,
    "hidePrompt": false
   },
   "source": [
    "Grep is a pattern matching utility built into unix and it's flavors. The typical format is:\n",
    "\n",
    "grep [option] [pattern] [file/s]"
   ]
  },
  {
   "cell_type": "code",
   "execution_count": null,
   "metadata": {
    "collapsed": false,
    "hideCode": false,
    "hidePrompt": false
   },
   "outputs": [],
   "source": [
    "pwd"
   ]
  },
  {
   "cell_type": "code",
   "execution_count": null,
   "metadata": {
    "collapsed": false,
    "hideCode": false,
    "hidePrompt": false
   },
   "outputs": [],
   "source": [
    "ls"
   ]
  },
  {
   "cell_type": "code",
   "execution_count": 23,
   "metadata": {
    "collapsed": false,
    "hideCode": false,
    "hidePrompt": false
   },
   "outputs": [
    {
     "name": "stdout",
     "output_type": "stream",
     "text": [
      "https://www.nytimes.com/2017/02/08/world/europe/letters-from-jacqueline-kennedy-to-the-man-she-didnt-marry.html\r\n",
      "\r\n",
      "LONDON — In November 1967, four years after her husband’s assassination, Jacqueline Kennedy traveled to the temples of Angkor Wat in Cambodia on a much-publicized trip with David Ormsby Gore, a friend of her husband and himself a recent widower.\r\n",
      "\r\n",
      "There was much speculation of a romantic attachment. A few months later, Mr. Ormsby Gore, a former British ambassador to Washington, proposed marriage. She turned him down.\r\n",
      "\r\n",
      "In a handwritten letter, filled with anguish and a touch of cruelty, she explained her decision to marry Aristotle Onassis instead.\r\n",
      "\r\n",
      "“If ever I can find some healing and some comfort — it has to be with somebody who is not part of all my world of past and pain,” she wrote. “I can find that now — if the world will let us.”\r\n",
      "\r\n",
      "The letter was part of a set of papers found in locked red-leather cases discovered only last month in Wales at the family home of Mr. Ormsby Gore, who died in 1985. They are being auctioned in London next month by his grandson to help restore the house.\r\n",
      "\r\n",
      "Continue reading the main story\r\n",
      "RELATED COVERAGE\r\n",
      "\r\n",
      "\r\n",
      "Annemarie Huste, a Kennedy Chef Who Said Too Much, Dies at 73 OCT. 22, 2016\r\n",
      "\r\n",
      "‘Jacqueline Bouvier Kennedy Onassis,’ by Barbara Leaming DEC. 5, 2014\r\n",
      "\r\n",
      "Jackie Kennedy’s Letters Taken Off the Auction Block MAY 23, 2014\r\n",
      "The letters point to the depth of feeling behind the public mask of one of the most celebrated women of her time."
     ]
    }
   ],
   "source": [
    "!cat nyt.txt"
   ]
  },
  {
   "cell_type": "code",
   "execution_count": 24,
   "metadata": {
    "collapsed": false,
    "hideCode": false,
    "hidePrompt": false
   },
   "outputs": [
    {
     "name": "stdout",
     "output_type": "stream",
     "text": [
      "4\r\n"
     ]
    }
   ],
   "source": [
    "# Count the number of matches\n",
    "!grep -c 'Kennedy' nyt.txt"
   ]
  },
  {
   "cell_type": "code",
   "execution_count": 25,
   "metadata": {
    "collapsed": false,
    "hideCode": false,
    "hidePrompt": false
   },
   "outputs": [
    {
     "name": "stdout",
     "output_type": "stream",
     "text": [
      "Kennedy\r\n",
      "Kennedy\r\n",
      "Kennedy\r\n",
      "Kennedy\r\n"
     ]
    }
   ],
   "source": [
    "!grep -o 'Kennedy' nyt.txt"
   ]
  },
  {
   "cell_type": "markdown",
   "metadata": {
    "hideCode": false,
    "hidePrompt": false
   },
   "source": [
    "More options for grep:\n",
    "* -c Print only a count of matched lines.\n",
    "* -l List only filenames\n",
    "* -i Ignore lowercase and uppercase distinctions\n",
    "* -o prints only the matching part of the line\n",
    "* -n Print matching line with its line number\n",
    "* -v Negate matches; print lines that do not match the regex\n",
    "* -r Recursively Search subdirectories listed"
   ]
  },
  {
   "cell_type": "code",
   "execution_count": 28,
   "metadata": {
    "collapsed": true,
    "hideCode": false,
    "hidePrompt": false
   },
   "outputs": [],
   "source": [
    "!curl -s 'http://freegeoip.net/json/' > location.json"
   ]
  },
  {
   "cell_type": "code",
   "execution_count": 29,
   "metadata": {
    "collapsed": false,
    "hideCode": false,
    "hidePrompt": false
   },
   "outputs": [
    {
     "name": "stdout",
     "output_type": "stream",
     "text": [
      "\u001b[1;39m{\r\n",
      "  \u001b[0m\u001b[34;1m\"ip\"\u001b[0m\u001b[1;39m: \u001b[0m\u001b[0;32m\"2604:2000:610f:b100:4529:a532:aecb:8b48\"\u001b[0m\u001b[1;39m,\r\n",
      "  \u001b[0m\u001b[34;1m\"country_code\"\u001b[0m\u001b[1;39m: \u001b[0m\u001b[0;32m\"US\"\u001b[0m\u001b[1;39m,\r\n",
      "  \u001b[0m\u001b[34;1m\"country_name\"\u001b[0m\u001b[1;39m: \u001b[0m\u001b[0;32m\"United States\"\u001b[0m\u001b[1;39m,\r\n",
      "  \u001b[0m\u001b[34;1m\"region_code\"\u001b[0m\u001b[1;39m: \u001b[0m\u001b[0;32m\"NY\"\u001b[0m\u001b[1;39m,\r\n",
      "  \u001b[0m\u001b[34;1m\"region_name\"\u001b[0m\u001b[1;39m: \u001b[0m\u001b[0;32m\"New York\"\u001b[0m\u001b[1;39m,\r\n",
      "  \u001b[0m\u001b[34;1m\"city\"\u001b[0m\u001b[1;39m: \u001b[0m\u001b[0;32m\"Rego Park\"\u001b[0m\u001b[1;39m,\r\n",
      "  \u001b[0m\u001b[34;1m\"zip_code\"\u001b[0m\u001b[1;39m: \u001b[0m\u001b[0;32m\"11374\"\u001b[0m\u001b[1;39m,\r\n",
      "  \u001b[0m\u001b[34;1m\"time_zone\"\u001b[0m\u001b[1;39m: \u001b[0m\u001b[0;32m\"America/New_York\"\u001b[0m\u001b[1;39m,\r\n",
      "  \u001b[0m\u001b[34;1m\"latitude\"\u001b[0m\u001b[1;39m: \u001b[0m\u001b[0;39m40.7235\u001b[0m\u001b[1;39m,\r\n",
      "  \u001b[0m\u001b[34;1m\"longitude\"\u001b[0m\u001b[1;39m: \u001b[0m\u001b[0;39m-73.8612\u001b[0m\u001b[1;39m,\r\n",
      "  \u001b[0m\u001b[34;1m\"metro_code\"\u001b[0m\u001b[1;39m: \u001b[0m\u001b[0;39m501\u001b[0m\u001b[1;39m\r\n",
      "\u001b[1;39m}\u001b[0m\r\n"
     ]
    }
   ],
   "source": [
    "!jq . location.json"
   ]
  },
  {
   "cell_type": "code",
   "execution_count": 30,
   "metadata": {
    "collapsed": false,
    "hideCode": false,
    "hidePrompt": false,
    "scrolled": true
   },
   "outputs": [
    {
     "name": "stdout",
     "output_type": "stream",
     "text": [
      "\u001b[1;39m{\r\n",
      "  \u001b[0m\u001b[34;1m\"ip\"\u001b[0m\u001b[1;39m: \u001b[0m\u001b[0;32m\"2604:2000:610f:b100:4529:a532:aecb:8b48\"\u001b[0m\u001b[1;39m,\r\n",
      "  \u001b[0m\u001b[34;1m\"country_code\"\u001b[0m\u001b[1;39m: \u001b[0m\u001b[0;32m\"US\"\u001b[0m\u001b[1;39m,\r\n",
      "  \u001b[0m\u001b[34;1m\"country_name\"\u001b[0m\u001b[1;39m: \u001b[0m\u001b[0;32m\"United States\"\u001b[0m\u001b[1;39m,\r\n",
      "  \u001b[0m\u001b[34;1m\"region_code\"\u001b[0m\u001b[1;39m: \u001b[0m\u001b[0;32m\"NY\"\u001b[0m\u001b[1;39m,\r\n",
      "  \u001b[0m\u001b[34;1m\"region_name\"\u001b[0m\u001b[1;39m: \u001b[0m\u001b[0;32m\"New York\"\u001b[0m\u001b[1;39m,\r\n",
      "  \u001b[0m\u001b[34;1m\"city\"\u001b[0m\u001b[1;39m: \u001b[0m\u001b[0;32m\"Rego Park\"\u001b[0m\u001b[1;39m,\r\n",
      "  \u001b[0m\u001b[34;1m\"zip_code\"\u001b[0m\u001b[1;39m: \u001b[0m\u001b[0;32m\"11374\"\u001b[0m\u001b[1;39m,\r\n",
      "  \u001b[0m\u001b[34;1m\"time_zone\"\u001b[0m\u001b[1;39m: \u001b[0m\u001b[0;32m\"America/New_York\"\u001b[0m\u001b[1;39m,\r\n",
      "  \u001b[0m\u001b[34;1m\"latitude\"\u001b[0m\u001b[1;39m: \u001b[0m\u001b[0;39m40.7235\u001b[0m\u001b[1;39m,\r\n",
      "  \u001b[0m\u001b[34;1m\"longitude\"\u001b[0m\u001b[1;39m: \u001b[0m\u001b[0;39m-73.8612\u001b[0m\u001b[1;39m,\r\n",
      "  \u001b[0m\u001b[34;1m\"metro_code\"\u001b[0m\u001b[1;39m: \u001b[0m\u001b[0;39m501\u001b[0m\u001b[1;39m\r\n",
      "\u001b[1;39m}\u001b[0m\r\n"
     ]
    }
   ],
   "source": [
    "!curl -s 'http://freegeoip.net/json/' | jq ."
   ]
  },
  {
   "cell_type": "markdown",
   "metadata": {
    "hideCode": false,
    "hidePrompt": false
   },
   "source": [
    "## Redirection (or Downloading)"
   ]
  },
  {
   "cell_type": "markdown",
   "metadata": {
    "hideCode": false,
    "hidePrompt": false
   },
   "source": [
    "This is really useful to quickly download a dataset using what is called an API Endpoint. \n",
    "\n",
    "Let's download the 'Times Square Entertainment Venues' dataset from New York City's Open Data Portal to demonstrate this. \n",
    "\n",
    "https://data.cityofnewyork.us/Business/Times-Square-Entertainment-Venues/jxdc-hnze"
   ]
  },
  {
   "cell_type": "code",
   "execution_count": 31,
   "metadata": {
    "collapsed": false,
    "hideCode": false,
    "hidePrompt": false
   },
   "outputs": [
    {
     "name": "stdout",
     "output_type": "stream",
     "text": [
      "  % Total    % Received % Xferd  Average Speed   Time    Time     Time  Current\n",
      "                                 Dload  Upload   Total   Spent    Left  Speed\n",
      "100  9794    0  9794    0     0  28093      0 --:--:-- --:--:-- --:--:-- 31092\n"
     ]
    }
   ],
   "source": [
    "!curl \"https://data.cityofnewyork.us/resource/2pc8-n4xe.json\" > venues.json"
   ]
  },
  {
   "cell_type": "code",
   "execution_count": 32,
   "metadata": {
    "collapsed": false,
    "hideCode": false,
    "hidePrompt": false
   },
   "outputs": [
    {
     "name": "stdout",
     "output_type": "stream",
     "text": [
      "[{\"company_name\":\"Cheetahs\",\"phone\":\"(212) 819-9300\",\"subindustry\":\"Nightclub\",\"website\":\"www.cheetahnyc.com\"}\r\n",
      ",{\"company_name\":\"Al Hirschfeld Theater\",\"phone\":\"(212) 239-6200\",\"sub_subindustry\":\"League\",\"subindustry\":\"Theater\"}\r\n",
      ",{\"company_name\":\"The World Famous Laugh Factory\",\"phone\":\"212-586-7829 x304\",\"subindustry\":\"Comedy Club\"}\r\n",
      ",{\"company_name\":\"Bernard B. Jacobs Theatre\",\"phone\":\"(212) 239-2820\",\"sub_subindustry\":\"League\",\"subindustry\":\"Theater\"}\r\n",
      ",{\"company_name\":\"Music Box Theater\",\"phone\":\"212 239-6200\",\"sub_subindustry\":\"League\",\"subindustry\":\"Theater\"}\r\n",
      ",{\"company_name\":\"Helen Hayes Theatre\",\"phone\":\"(212) 944-9457\",\"sub_subindustry\":\"League\",\"subindustry\":\"Theater\"}\r\n",
      ",{\"company_name\":\"Touch Nightclub\",\"phone\":\"212 489-7656\",\"subindustry\":\"Nightclub\"}\r\n",
      ",{\"company_name\":\"Hawthorne Amusement\",\"subindustry\":\"Attractions / Amusement\"}\r\n",
      ",{\"company_name\":\"Regal Loews Cinemas 42nd Street E-Walk Theater\",\"phone\":\"(212) 840-7761\",\"subindustry\":\"Movies\",\"website\":\"www.regmovies.com\"}\r\n",
      ",{\"company_name\":\"Jujamcyn Theater\",\"phone\":\"(212) 840-8181\",\"sub_subindustry\":\"League\",\"subindustry\":\"Theater\"}\r\n",
      ",{\"company_name\":\"St. James Theatre\",\"phone\":\"(212) 239-6200\",\"sub_subindustry\":\"League\",\"subindustry\":\"Theater\"}\r\n",
      ",{\"company_name\":\"Imperial Theatre\",\"phone\":\"(815) 477-5076\",\"sub_subindustry\":\"League\",\"subindustry\":\"Theater\"}\r\n",
      ",{\"company_name\":\"Brooks Atkinson Theatre\",\"phone\":\"(212) 719-4099\",\"sub_subindustry\":\"League\",\"subindustry\":\"Theater\",\"website\":\"http://www.brooksatkinsontheater.com/\"}\r\n",
      ",{\"company_name\":\"Freidman Theatre\",\"phone\":\"(212) 399-3000 x 5401\",\"sub_subindustry\":\"Broadway - Non-League\",\"subindustry\":\"Theater\"}\r\n",
      ",{\"company_name\":\"Lyceum Theater\",\"phone\":\"212 239-6200\",\"sub_subindustry\":\"League\",\"subindustry\":\"Theater\"}\r\n",
      ",{\"company_name\":\"Ripley's Believe It Or Not!\",\"phone\":\"212-398-3133\",\"subindustry\":\"Attractions / Amusement\",\"website\":\"www.ripleysnewyork.com\"}\r\n",
      ",{\"company_name\":\"Shubert Theatre\",\"phone\":\"2129443700\",\"sub_subindustry\":\"League\",\"subindustry\":\"Theater\"}\r\n",
      ",{\"company_name\":\"St Luke's Theater\",\"phone\":\"(212) 246-8140\",\"sub_subindustry\":\"Off-Broadway\",\"subindustry\":\"Theater\",\"website\":\"http://stlukestheatre.com/\"}\r\n",
      ",{\"company_name\":\"Show World Center Inc.\",\"phone\":\"(212) 489-7576\",\"subindustry\":\"Nightclub\"}\r\n",
      ",{\"company_name\":\"Lace 2\",\"phone\":\"(212) 765-5047\",\"subindustry\":\"Nightclub\",\"website\":\"laceclubs.com\"}\r\n",
      ",{\"company_name\":\"Flash Dancers\",\"phone\":\"(212) 315-5107\",\"subindustry\":\"Nightclub\",\"website\":\"http://flashdancersnyc.com/\"}\r\n",
      ",{\"company_name\":\"Snapple Theater (Jerry Orbach Theater)\",\"phone\":\"(212) 246-3828\",\"sub_subindustry\":\"Broadway - Non-League\",\"subindustry\":\"Theater\",\"website\":\"http://www.snappletheater.com\"}\r\n",
      ",{\"company_name\":\"Don't Tell Mama\",\"phone\":\"212-757-0788\",\"subindustry\":\"Live Music\"}\r\n",
      ",{\"company_name\":\"Private Storefront\",\"subindustry\":\"Nightclub\"}\r\n",
      ",{\"company_name\":\"Circle In The Square Theatre\",\"phone\":\"2123070388\",\"sub_subindustry\":\"League\",\"subindustry\":\"Theater\"}\r\n",
      ",{\"company_name\":\"Ha! Comedy Club\",\"phone\":\"2129773884\",\"subindustry\":\"Comedy Club\",\"website\":\"www.hacomedynyc.com\"}\r\n",
      ",{\"company_name\":\"American Theatre Wing\",\"phone\":\"212-765-0606 x311\",\"sub_subindustry\":\"Off-Broadway\",\"subindustry\":\"Theater\",\"website\":\"http://americantheatrewing.org/\"}\r\n",
      ",{\"company_name\":\"Belasco\",\"sub_subindustry\":\"League\",\"subindustry\":\"Theater\"}\r\n",
      ",{\"company_name\":\"Broadway Theatre\",\"phone\":\"(212) 975-6644\",\"sub_subindustry\":\"League\",\"subindustry\":\"Theater\"}\r\n",
      ",{\"company_name\":\"Nederlander Theatre\",\"phone\":\"(212) 921-8000\",\"sub_subindustry\":\"League\",\"subindustry\":\"Theater\",\"website\":\"http://www.nederlandertheatre.com/\"}\r\n",
      ",{\"company_name\":\"New Amsterdam Theater\",\"phone\":\"(212) 282-2900\",\"sub_subindustry\":\"League\",\"subindustry\":\"Theater\",\"website\":\"http://www.newyorkcitytheatre.com/theaters/newamsterdamtheater/theater.php\"}\r\n",
      ",{\"company_name\":\"Vacant (Bare Elegance Gentlemen's Club)\",\"phone\":\"(212) 245-3494\",\"subindustry\":\"Nightclub\",\"website\":\"http://www.mentertainment.com/clubs/ny/bare/bare-00.htm\"}\r\n",
      ",{\"company_name\":\"Mixed Emotions Video Rental\",\"subindustry\":\"Movies\"}\r\n",
      ",{\"company_name\":\"Walter Kerr Theatre\",\"phone\":\"(212) 239-2974\",\"sub_subindustry\":\"League\",\"subindustry\":\"Theater\"}\r\n",
      ",{\"company_name\":\"Longacre Theatre\",\"phone\":\"(212) 239-6200\",\"sub_subindustry\":\"League\",\"subindustry\":\"Theater\"}\r\n",
      ",{\"company_name\":\"Richard Rodgers Theatre\",\"phone\":\"(212) 221-1211 \\u000e\",\"sub_subindustry\":\"League\",\"subindustry\":\"Theater\",\"website\":\"http://www.richardrodgerstheatre.com/\"}\r\n",
      ",{\"company_name\":\"TSX: Times Square Expositions\",\"phone\":\"646-619-8608\",\"subindustry\":\"Museums / Galleries\"}\r\n",
      ",{\"company_name\":\"Eugene O'Neill Theatre\",\"phone\":\"(212) 840-8181\",\"sub_subindustry\":\"League\",\"subindustry\":\"Theater\"}\r\n",
      ",{\"company_name\":\"AMC Theatres\",\"phone\":\"(212) 398-2597\",\"subindustry\":\"Movies\"}\r\n",
      ",{\"company_name\":\"Minskoff Theatre\",\"phone\":\"(212) 869-0550\",\"sub_subindustry\":\"League\",\"subindustry\":\"Theater\",\"website\":\"www.minskofftheatre.com\"}\r\n",
      ",{\"company_name\":\"Liberty Theater\",\"sub_subindustry\":\"Broadway - Non-League\",\"subindustry\":\"Theater\"}\r\n",
      ",{\"company_name\":\"Madame Tussauds New York\",\"phone\":\"(212) 512-9600\",\"subindustry\":\"Museums / Galleries\",\"website\":\"http://www.nycwax.com\"}\r\n",
      ",{\"company_name\":\"Nokia Theatre\",\"phone\":\"(212) 930-1950\",\"subindustry\":\"Live Music\",\"website\":\"http://nokiatheatrenyc.com/\"}\r\n",
      ",{\"company_name\":\"Ethel Barrymore\",\"sub_subindustry\":\"League\",\"subindustry\":\"Theater\"}\r\n",
      ",{\"company_name\":\"Architectural History Foundation\",\"phone\":\"(212) 286-5141\",\"subindustry\":\"Museums / Galleries\"}\r\n",
      ",{\"company_name\":\"Samuel J. Friedman Theatre\",\"location_1_location\":\"261 47th St\",\"sub_subindustry\":\"League\",\"subindustry\":\"Theater\"}\r\n",
      ",{\"company_name\":\"Henry Miller's Theatre\",\"sub_subindustry\":\"League\",\"subindustry\":\"Theater\"}\r\n",
      ",{\"company_name\":\"Hollywood Theatre\",\"phone\":\"(212) 262-3030\",\"subindustry\":\"Movies\"}\r\n",
      ",{\"company_name\":\"Town Hall\",\"phone\":\"(212) 997-1003\",\"sub_subindustry\":\"Nonprofit\",\"subindustry\":\"Theater\"}\r\n",
      ",{\"company_name\":\"The Cort Theatre\",\"phone\":\"(212) 239-2820\",\"sub_subindustry\":\"League\",\"subindustry\":\"Theater\",\"website\":\"http://www.newyorkcitytheatre.com/theaters/corttheater/theater.php\"}\r\n",
      ",{\"company_name\":\"The Jam\",\"phone\":\"2126268472\",\"subindustry\":\"Live Music\",\"website\":\"www.thejamnyc.com\"}\r\n",
      ",{\"company_name\":\"Sage Theater\",\"phone\":\"(212) 302-6665 \\u000e\",\"sub_subindustry\":\"Off-Broadway\",\"subindustry\":\"Theater\",\"website\":\"http://www.sagetheater.us/\"}\r\n",
      ",{\"company_name\":\"Lace\",\"phone\":\"(212) 764-6969\",\"subindustry\":\"Nightclub\"}\r\n",
      ",{\"company_name\":\"Times Square Art Center\",\"phone\":\"(212) 586-7829 \\u000e\",\"subindustry\":\"Comedy Club\",\"website\":\"http://timessquareartscenter.com/\"}\r\n",
      ",{\"company_name\":\"China Club\",\"phone\":\"(212) 575-5026\",\"subindustry\":\"Nightclub\",\"website\":\"http://www.chinaclubnyc.com/\"}\r\n",
      ",{\"company_name\":\"Majestic Theatre\",\"phone\":\"(212) 239-6200\",\"sub_subindustry\":\"League\",\"subindustry\":\"Theater\",\"website\":\"http://www.newyorkcitytheatre.com/theaters/majestictheater/theater.php\"}\r\n",
      ",{\"company_name\":\"The Times Center\",\"phone\":\"(800) 272-9533\",\"subindustry\":\"Lecture Hall\",\"website\":\"http://thetimescenter.com/\"}\r\n",
      ",{\"company_name\":\"Lunt-Fontanne Theatre\",\"phone\":\"(212) 575-9200\",\"sub_subindustry\":\"League\",\"subindustry\":\"Theater\",\"website\":\"http://luntfontannetheatre.com/\"}\r\n",
      ",{\"company_name\":\"John Golden Theatre\",\"sub_subindustry\":\"League\",\"subindustry\":\"Theater\"}\r\n",
      ",{\"company_name\":\"Gerald Schoenfeld Theatre\",\"phone\":\"(212) 239-6200\",\"sub_subindustry\":\"League\",\"subindustry\":\"Theater\"}\r\n",
      ",{\"company_name\":\"Neil Simon Theatre\",\"phone\":\"(212) 757-8646\",\"sub_subindustry\":\"League\",\"subindustry\":\"Theater\",\"website\":\"http://www.neilsimontheatre.com/\"}\r\n",
      ",{\"company_name\":\"American Airlines Theatre\",\"phone\":\"(212) 719-1300 \\u000e\",\"sub_subindustry\":\"League\",\"subindustry\":\"Theater\",\"website\":\"http://roundabouttheatre.org/\"}\r\n",
      ",{\"company_name\":\"Roseland Ballroom\",\"phone\":\"(212) 247-0200 \\u000e\",\"subindustry\":\"Live Music\",\"website\":\"http://roselandballroom.com/\"}\r\n",
      ",{\"company_name\":\"Winter Garden Theatre\",\"phone\":\"(212) 239-6200\",\"sub_subindustry\":\"League\",\"subindustry\":\"Theater\",\"website\":\"http://www.wintergarden-theater.com/\"}\r\n",
      ",{\"company_name\":\"Gershwin Theatre\",\"phone\":\"(212) 586-6510\",\"sub_subindustry\":\"League\",\"subindustry\":\"Theater\",\"website\":\"http://www.gershwintheatre.com/\"}\r\n",
      ",{\"company_name\":\"Booth Theatre\",\"phone\":\"(212) 391-8886\",\"sub_subindustry\":\"League\",\"subindustry\":\"Theater\"}\r\n",
      ",{\"company_name\":\"Palace Theatre\",\"sub_subindustry\":\"League\",\"subindustry\":\"Theater\"}\r\n",
      ",{\"company_name\":\"Duke Theater\",\"phone\":\"(646) 223-3000\",\"sub_subindustry\":\"Off-Broadway\",\"subindustry\":\"Theater\",\"website\":\"http://www.new42.org/duke/duke_home.aspx\"}\r\n",
      ",{\"company_name\":\"Marriott Marquis Theatre\",\"phone\":\"(212) 382-0100\",\"sub_subindustry\":\"League\",\"subindustry\":\"Theater\",\"website\":\"http://www.marquistheatre.com/\"}\r\n",
      ",{\"company_name\":\"Ambassador Theatre\",\"sub_subindustry\":\"League\",\"subindustry\":\"Theater\"}\r\n",
      ",{\"company_name\":\"American Craftsman\",\"phone\":\"(212) 399-2555\",\"subindustry\":\"Museums / Galleries\"}\r\n",
      ",{\"company_name\":\"August Wilson Theatre\",\"phone\":\"(212) 239-6200\",\"sub_subindustry\":\"League\",\"subindustry\":\"Theater\",\"website\":\"http://www.newyorkcitytheatre.com/theaters/augustwilsontheater/theater.php\"}\r\n",
      ",{\"company_name\":\"Broadway Galleries\",\"phone\":\"(212) 274-8993\",\"subindustry\":\"Museums / Galleries\",\"website\":\"http://www.broadwaygallerynyc.com/\"}\r\n",
      ",{\"company_name\":\"Crown Art Gallery\",\"phone\":\"(212) 757-8255\",\"subindustry\":\"Museums / Galleries\",\"website\":\"www.sohogallery.com\"}\r\n",
      ",{\"company_name\":\"Foxwoods Theatre\",\"phone\":\"(212) 556-4750\",\"sub_subindustry\":\"League\",\"subindustry\":\"Theater\"}\r\n",
      ",{\"company_name\":\"The Duke\",\"sub_subindustry\":\"Off-Broadway\",\"subindustry\":\"Theater\",\"website\":\"http://www.new42.org/duke/duke_home.aspx\"}\r\n",
      ",{\"company_name\":\"Carolines on Broadway\",\"phone\":\"(212) 757-4100\",\"subindustry\":\"Comedy Club\",\"website\":\"https://www.carolines.com/\"}]\r\n"
     ]
    }
   ],
   "source": [
    "!cat venues.json"
   ]
  },
  {
   "cell_type": "code",
   "execution_count": 34,
   "metadata": {
    "collapsed": false,
    "hideCode": false,
    "hidePrompt": false
   },
   "outputs": [
    {
     "name": "stdout",
     "output_type": "stream",
     "text": [
      ",{\"company_name\":\"Ripley's Believe It Or Not!\",\"phone\":\"212-398-3133\",\"subindustry\":\"Attractions / Amusement\",\"website\":\"www.ripleysnewyork.com\"}\r\n"
     ]
    }
   ],
   "source": [
    "!grep 'Ripley' venues.json"
   ]
  },
  {
   "cell_type": "code",
   "execution_count": 35,
   "metadata": {
    "collapsed": false,
    "hideCode": false,
    "hidePrompt": false
   },
   "outputs": [
    {
     "name": "stdout",
     "output_type": "stream",
     "text": [
      ",{\"company_name\":\"Al Hirschfeld Theater\",\"phone\":\"(212) 239-6200\",\"sub_subindustry\":\"League\",\"subindustry\":\"Theater\"}\r\n",
      ",{\"company_name\":\"Bernard B. Jacobs Theatre\",\"phone\":\"(212) 239-2820\",\"sub_subindustry\":\"League\",\"subindustry\":\"Theater\"}\r\n",
      ",{\"company_name\":\"Music Box Theater\",\"phone\":\"212 239-6200\",\"sub_subindustry\":\"League\",\"subindustry\":\"Theater\"}\r\n",
      ",{\"company_name\":\"Helen Hayes Theatre\",\"phone\":\"(212) 944-9457\",\"sub_subindustry\":\"League\",\"subindustry\":\"Theater\"}\r\n",
      ",{\"company_name\":\"Regal Loews Cinemas 42nd Street E-Walk Theater\",\"phone\":\"(212) 840-7761\",\"subindustry\":\"Movies\",\"website\":\"www.regmovies.com\"}\r\n",
      ",{\"company_name\":\"Jujamcyn Theater\",\"phone\":\"(212) 840-8181\",\"sub_subindustry\":\"League\",\"subindustry\":\"Theater\"}\r\n",
      ",{\"company_name\":\"St. James Theatre\",\"phone\":\"(212) 239-6200\",\"sub_subindustry\":\"League\",\"subindustry\":\"Theater\"}\r\n",
      ",{\"company_name\":\"Imperial Theatre\",\"phone\":\"(815) 477-5076\",\"sub_subindustry\":\"League\",\"subindustry\":\"Theater\"}\r\n",
      ",{\"company_name\":\"Brooks Atkinson Theatre\",\"phone\":\"(212) 719-4099\",\"sub_subindustry\":\"League\",\"subindustry\":\"Theater\",\"website\":\"http://www.brooksatkinsontheater.com/\"}\r\n",
      ",{\"company_name\":\"Freidman Theatre\",\"phone\":\"(212) 399-3000 x 5401\",\"sub_subindustry\":\"Broadway - Non-League\",\"subindustry\":\"Theater\"}\r\n",
      ",{\"company_name\":\"Lyceum Theater\",\"phone\":\"212 239-6200\",\"sub_subindustry\":\"League\",\"subindustry\":\"Theater\"}\r\n",
      ",{\"company_name\":\"Shubert Theatre\",\"phone\":\"2129443700\",\"sub_subindustry\":\"League\",\"subindustry\":\"Theater\"}\r\n",
      ",{\"company_name\":\"St Luke's Theater\",\"phone\":\"(212) 246-8140\",\"sub_subindustry\":\"Off-Broadway\",\"subindustry\":\"Theater\",\"website\":\"http://stlukestheatre.com/\"}\r\n",
      ",{\"company_name\":\"Snapple Theater (Jerry Orbach Theater)\",\"phone\":\"(212) 246-3828\",\"sub_subindustry\":\"Broadway - Non-League\",\"subindustry\":\"Theater\",\"website\":\"http://www.snappletheater.com\"}\r\n",
      ",{\"company_name\":\"Circle In The Square Theatre\",\"phone\":\"2123070388\",\"sub_subindustry\":\"League\",\"subindustry\":\"Theater\"}\r\n",
      ",{\"company_name\":\"American Theatre Wing\",\"phone\":\"212-765-0606 x311\",\"sub_subindustry\":\"Off-Broadway\",\"subindustry\":\"Theater\",\"website\":\"http://americantheatrewing.org/\"}\r\n",
      ",{\"company_name\":\"Belasco\",\"sub_subindustry\":\"League\",\"subindustry\":\"Theater\"}\r\n",
      ",{\"company_name\":\"Broadway Theatre\",\"phone\":\"(212) 975-6644\",\"sub_subindustry\":\"League\",\"subindustry\":\"Theater\"}\r\n",
      ",{\"company_name\":\"Nederlander Theatre\",\"phone\":\"(212) 921-8000\",\"sub_subindustry\":\"League\",\"subindustry\":\"Theater\",\"website\":\"http://www.nederlandertheatre.com/\"}\r\n",
      ",{\"company_name\":\"New Amsterdam Theater\",\"phone\":\"(212) 282-2900\",\"sub_subindustry\":\"League\",\"subindustry\":\"Theater\",\"website\":\"http://www.newyorkcitytheatre.com/theaters/newamsterdamtheater/theater.php\"}\r\n",
      ",{\"company_name\":\"Walter Kerr Theatre\",\"phone\":\"(212) 239-2974\",\"sub_subindustry\":\"League\",\"subindustry\":\"Theater\"}\r\n",
      ",{\"company_name\":\"Longacre Theatre\",\"phone\":\"(212) 239-6200\",\"sub_subindustry\":\"League\",\"subindustry\":\"Theater\"}\r\n",
      ",{\"company_name\":\"Richard Rodgers Theatre\",\"phone\":\"(212) 221-1211 \\u000e\",\"sub_subindustry\":\"League\",\"subindustry\":\"Theater\",\"website\":\"http://www.richardrodgerstheatre.com/\"}\r\n",
      ",{\"company_name\":\"Eugene O'Neill Theatre\",\"phone\":\"(212) 840-8181\",\"sub_subindustry\":\"League\",\"subindustry\":\"Theater\"}\r\n",
      ",{\"company_name\":\"Minskoff Theatre\",\"phone\":\"(212) 869-0550\",\"sub_subindustry\":\"League\",\"subindustry\":\"Theater\",\"website\":\"www.minskofftheatre.com\"}\r\n",
      ",{\"company_name\":\"Liberty Theater\",\"sub_subindustry\":\"Broadway - Non-League\",\"subindustry\":\"Theater\"}\r\n",
      ",{\"company_name\":\"Ethel Barrymore\",\"sub_subindustry\":\"League\",\"subindustry\":\"Theater\"}\r\n",
      ",{\"company_name\":\"Samuel J. Friedman Theatre\",\"location_1_location\":\"261 47th St\",\"sub_subindustry\":\"League\",\"subindustry\":\"Theater\"}\r\n",
      ",{\"company_name\":\"Henry Miller's Theatre\",\"sub_subindustry\":\"League\",\"subindustry\":\"Theater\"}\r\n",
      ",{\"company_name\":\"Town Hall\",\"phone\":\"(212) 997-1003\",\"sub_subindustry\":\"Nonprofit\",\"subindustry\":\"Theater\"}\r\n",
      ",{\"company_name\":\"The Cort Theatre\",\"phone\":\"(212) 239-2820\",\"sub_subindustry\":\"League\",\"subindustry\":\"Theater\",\"website\":\"http://www.newyorkcitytheatre.com/theaters/corttheater/theater.php\"}\r\n",
      ",{\"company_name\":\"Sage Theater\",\"phone\":\"(212) 302-6665 \\u000e\",\"sub_subindustry\":\"Off-Broadway\",\"subindustry\":\"Theater\",\"website\":\"http://www.sagetheater.us/\"}\r\n",
      ",{\"company_name\":\"Majestic Theatre\",\"phone\":\"(212) 239-6200\",\"sub_subindustry\":\"League\",\"subindustry\":\"Theater\",\"website\":\"http://www.newyorkcitytheatre.com/theaters/majestictheater/theater.php\"}\r\n",
      ",{\"company_name\":\"Lunt-Fontanne Theatre\",\"phone\":\"(212) 575-9200\",\"sub_subindustry\":\"League\",\"subindustry\":\"Theater\",\"website\":\"http://luntfontannetheatre.com/\"}\r\n",
      ",{\"company_name\":\"John Golden Theatre\",\"sub_subindustry\":\"League\",\"subindustry\":\"Theater\"}\r\n",
      ",{\"company_name\":\"Gerald Schoenfeld Theatre\",\"phone\":\"(212) 239-6200\",\"sub_subindustry\":\"League\",\"subindustry\":\"Theater\"}\r\n",
      ",{\"company_name\":\"Neil Simon Theatre\",\"phone\":\"(212) 757-8646\",\"sub_subindustry\":\"League\",\"subindustry\":\"Theater\",\"website\":\"http://www.neilsimontheatre.com/\"}\r\n",
      ",{\"company_name\":\"American Airlines Theatre\",\"phone\":\"(212) 719-1300 \\u000e\",\"sub_subindustry\":\"League\",\"subindustry\":\"Theater\",\"website\":\"http://roundabouttheatre.org/\"}\r\n",
      ",{\"company_name\":\"Winter Garden Theatre\",\"phone\":\"(212) 239-6200\",\"sub_subindustry\":\"League\",\"subindustry\":\"Theater\",\"website\":\"http://www.wintergarden-theater.com/\"}\r\n",
      ",{\"company_name\":\"Gershwin Theatre\",\"phone\":\"(212) 586-6510\",\"sub_subindustry\":\"League\",\"subindustry\":\"Theater\",\"website\":\"http://www.gershwintheatre.com/\"}\r\n",
      ",{\"company_name\":\"Booth Theatre\",\"phone\":\"(212) 391-8886\",\"sub_subindustry\":\"League\",\"subindustry\":\"Theater\"}\r\n",
      ",{\"company_name\":\"Palace Theatre\",\"sub_subindustry\":\"League\",\"subindustry\":\"Theater\"}\r\n",
      ",{\"company_name\":\"Duke Theater\",\"phone\":\"(646) 223-3000\",\"sub_subindustry\":\"Off-Broadway\",\"subindustry\":\"Theater\",\"website\":\"http://www.new42.org/duke/duke_home.aspx\"}\r\n",
      ",{\"company_name\":\"Marriott Marquis Theatre\",\"phone\":\"(212) 382-0100\",\"sub_subindustry\":\"League\",\"subindustry\":\"Theater\",\"website\":\"http://www.marquistheatre.com/\"}\r\n",
      ",{\"company_name\":\"Ambassador Theatre\",\"sub_subindustry\":\"League\",\"subindustry\":\"Theater\"}\r\n",
      ",{\"company_name\":\"August Wilson Theatre\",\"phone\":\"(212) 239-6200\",\"sub_subindustry\":\"League\",\"subindustry\":\"Theater\",\"website\":\"http://www.newyorkcitytheatre.com/theaters/augustwilsontheater/theater.php\"}\r\n",
      ",{\"company_name\":\"Foxwoods Theatre\",\"phone\":\"(212) 556-4750\",\"sub_subindustry\":\"League\",\"subindustry\":\"Theater\"}\r\n",
      ",{\"company_name\":\"The Duke\",\"sub_subindustry\":\"Off-Broadway\",\"subindustry\":\"Theater\",\"website\":\"http://www.new42.org/duke/duke_home.aspx\"}\r\n"
     ]
    }
   ],
   "source": [
    "!grep -i 'Theater' venues.json"
   ]
  },
  {
   "cell_type": "code",
   "execution_count": 36,
   "metadata": {
    "collapsed": false,
    "hideCode": false,
    "hidePrompt": false,
    "scrolled": true
   },
   "outputs": [
    {
     "name": "stdout",
     "output_type": "stream",
     "text": [
      "[{\"company_name\":\"Cheetahs\",\"phone\":\"(212) 819-9300\",\"subindustry\":\"Nightclub\",\"website\":\"www.cheetahnyc.com\"}\r\n",
      ",{\"company_name\":\"The World Famous Laugh Factory\",\"phone\":\"212-586-7829 x304\",\"subindustry\":\"Comedy Club\"}\r\n",
      ",{\"company_name\":\"Touch Nightclub\",\"phone\":\"212 489-7656\",\"subindustry\":\"Nightclub\"}\r\n",
      ",{\"company_name\":\"Hawthorne Amusement\",\"subindustry\":\"Attractions / Amusement\"}\r\n",
      ",{\"company_name\":\"Ripley's Believe It Or Not!\",\"phone\":\"212-398-3133\",\"subindustry\":\"Attractions / Amusement\",\"website\":\"www.ripleysnewyork.com\"}\r\n",
      ",{\"company_name\":\"Show World Center Inc.\",\"phone\":\"(212) 489-7576\",\"subindustry\":\"Nightclub\"}\r\n",
      ",{\"company_name\":\"Lace 2\",\"phone\":\"(212) 765-5047\",\"subindustry\":\"Nightclub\",\"website\":\"laceclubs.com\"}\r\n",
      ",{\"company_name\":\"Flash Dancers\",\"phone\":\"(212) 315-5107\",\"subindustry\":\"Nightclub\",\"website\":\"http://flashdancersnyc.com/\"}\r\n",
      ",{\"company_name\":\"Don't Tell Mama\",\"phone\":\"212-757-0788\",\"subindustry\":\"Live Music\"}\r\n",
      ",{\"company_name\":\"Private Storefront\",\"subindustry\":\"Nightclub\"}\r\n",
      ",{\"company_name\":\"Ha! Comedy Club\",\"phone\":\"2129773884\",\"subindustry\":\"Comedy Club\",\"website\":\"www.hacomedynyc.com\"}\r\n",
      ",{\"company_name\":\"Vacant (Bare Elegance Gentlemen's Club)\",\"phone\":\"(212) 245-3494\",\"subindustry\":\"Nightclub\",\"website\":\"http://www.mentertainment.com/clubs/ny/bare/bare-00.htm\"}\r\n",
      ",{\"company_name\":\"Mixed Emotions Video Rental\",\"subindustry\":\"Movies\"}\r\n",
      ",{\"company_name\":\"TSX: Times Square Expositions\",\"phone\":\"646-619-8608\",\"subindustry\":\"Museums / Galleries\"}\r\n",
      ",{\"company_name\":\"Madame Tussauds New York\",\"phone\":\"(212) 512-9600\",\"subindustry\":\"Museums / Galleries\",\"website\":\"http://www.nycwax.com\"}\r\n",
      ",{\"company_name\":\"Architectural History Foundation\",\"phone\":\"(212) 286-5141\",\"subindustry\":\"Museums / Galleries\"}\r\n",
      ",{\"company_name\":\"The Jam\",\"phone\":\"2126268472\",\"subindustry\":\"Live Music\",\"website\":\"www.thejamnyc.com\"}\r\n",
      ",{\"company_name\":\"Lace\",\"phone\":\"(212) 764-6969\",\"subindustry\":\"Nightclub\"}\r\n",
      ",{\"company_name\":\"Times Square Art Center\",\"phone\":\"(212) 586-7829 \\u000e\",\"subindustry\":\"Comedy Club\",\"website\":\"http://timessquareartscenter.com/\"}\r\n",
      ",{\"company_name\":\"China Club\",\"phone\":\"(212) 575-5026\",\"subindustry\":\"Nightclub\",\"website\":\"http://www.chinaclubnyc.com/\"}\r\n",
      ",{\"company_name\":\"The Times Center\",\"phone\":\"(800) 272-9533\",\"subindustry\":\"Lecture Hall\",\"website\":\"http://thetimescenter.com/\"}\r\n",
      ",{\"company_name\":\"Roseland Ballroom\",\"phone\":\"(212) 247-0200 \\u000e\",\"subindustry\":\"Live Music\",\"website\":\"http://roselandballroom.com/\"}\r\n",
      ",{\"company_name\":\"American Craftsman\",\"phone\":\"(212) 399-2555\",\"subindustry\":\"Museums / Galleries\"}\r\n",
      ",{\"company_name\":\"Broadway Galleries\",\"phone\":\"(212) 274-8993\",\"subindustry\":\"Museums / Galleries\",\"website\":\"http://www.broadwaygallerynyc.com/\"}\r\n",
      ",{\"company_name\":\"Crown Art Gallery\",\"phone\":\"(212) 757-8255\",\"subindustry\":\"Museums / Galleries\",\"website\":\"www.sohogallery.com\"}\r\n",
      ",{\"company_name\":\"Carolines on Broadway\",\"phone\":\"(212) 757-4100\",\"subindustry\":\"Comedy Club\",\"website\":\"https://www.carolines.com/\"}]\r\n"
     ]
    }
   ],
   "source": [
    "# Multiple flags, and multiple conditions\n",
    "!grep -v -e 'Theater' -e 'Theatre' venues.json"
   ]
  },
  {
   "cell_type": "code",
   "execution_count": null,
   "metadata": {
    "collapsed": true,
    "hideCode": false,
    "hidePrompt": false
   },
   "outputs": [],
   "source": []
  }
 ],
 "metadata": {
  "anaconda-cloud": {},
  "hide_code_all_hidden": false,
  "kernelspec": {
   "display_name": "Python [conda env:py3]",
   "language": "python",
   "name": "conda-env-py3-py"
  },
  "language_info": {
   "codemirror_mode": {
    "name": "ipython",
    "version": 3
   },
   "file_extension": ".py",
   "mimetype": "text/x-python",
   "name": "python",
   "nbconvert_exporter": "python",
   "pygments_lexer": "ipython3",
   "version": "3.5.2"
  },
  "toc": {
   "colors": {
    "hover_highlight": "#DAA520",
    "running_highlight": "#FF0000",
    "selected_highlight": "#FFD700"
   },
   "moveMenuLeft": true,
   "nav_menu": {
    "height": "246px",
    "width": "252px"
   },
   "navigate_menu": true,
   "number_sections": true,
   "sideBar": true,
   "threshold": 4,
   "toc_cell": true,
   "toc_section_display": "block",
   "toc_window_display": true
  }
 },
 "nbformat": 4,
 "nbformat_minor": 2
}
