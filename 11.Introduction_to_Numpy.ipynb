{
 "cells": [
  {
   "cell_type": "markdown",
   "metadata": {
    "toc": "true"
   },
   "source": [
    "# Table of Contents\n",
    " <p><div class=\"lev1 toc-item\"><a href=\"#Introduction-to-NumPy\" data-toc-modified-id=\"Introduction-to-NumPy-1\"><span class=\"toc-item-num\">1&nbsp;&nbsp;</span>Introduction to NumPy</a></div><div class=\"lev1 toc-item\"><a href=\"#Creating-Arrays\" data-toc-modified-id=\"Creating-Arrays-2\"><span class=\"toc-item-num\">2&nbsp;&nbsp;</span>Creating Arrays</a></div><div class=\"lev2 toc-item\"><a href=\"#Built-in-methods-to-generate-an-array\" data-toc-modified-id=\"Built-in-methods-to-generate-an-array-21\"><span class=\"toc-item-num\">2.1&nbsp;&nbsp;</span>Built-in methods to generate an array</a></div><div class=\"lev3 toc-item\"><a href=\"#Randint\" data-toc-modified-id=\"Randint-211\"><span class=\"toc-item-num\">2.1.1&nbsp;&nbsp;</span>Randint</a></div><div class=\"lev3 toc-item\"><a href=\"#Random-Array-with-a-Uniform-Distribution\" data-toc-modified-id=\"Random-Array-with-a-Uniform-Distribution-212\"><span class=\"toc-item-num\">2.1.2&nbsp;&nbsp;</span>Random Array with a Uniform Distribution</a></div><div class=\"lev3 toc-item\"><a href=\"#Random-Array-with-Standard-Normal-Distribution\" data-toc-modified-id=\"Random-Array-with-Standard-Normal-Distribution-213\"><span class=\"toc-item-num\">2.1.3&nbsp;&nbsp;</span>Random Array with Standard Normal Distribution</a></div><div class=\"lev3 toc-item\"><a href=\"#Array-of-Zeroes\" data-toc-modified-id=\"Array-of-Zeroes-214\"><span class=\"toc-item-num\">2.1.4&nbsp;&nbsp;</span>Array of Zeroes</a></div><div class=\"lev3 toc-item\"><a href=\"#Array-of-Ones\" data-toc-modified-id=\"Array-of-Ones-215\"><span class=\"toc-item-num\">2.1.5&nbsp;&nbsp;</span>Array of Ones</a></div><div class=\"lev3 toc-item\"><a href=\"#Identity-Matrix\" data-toc-modified-id=\"Identity-Matrix-216\"><span class=\"toc-item-num\">2.1.6&nbsp;&nbsp;</span>Identity Matrix</a></div><div class=\"lev3 toc-item\"><a href=\"#Linspace\" data-toc-modified-id=\"Linspace-217\"><span class=\"toc-item-num\">2.1.7&nbsp;&nbsp;</span>Linspace</a></div><div class=\"lev1 toc-item\"><a href=\"#Quick-Operations-on-Numpy-Arrays\" data-toc-modified-id=\"Quick-Operations-on-Numpy-Arrays-3\"><span class=\"toc-item-num\">3&nbsp;&nbsp;</span>Quick Operations on Numpy Arrays</a></div><div class=\"lev2 toc-item\"><a href=\"#Selecting-Values\" data-toc-modified-id=\"Selecting-Values-31\"><span class=\"toc-item-num\">3.1&nbsp;&nbsp;</span>Selecting Values</a></div><div class=\"lev1 toc-item\"><a href=\"#Indexing-2D-Matrices\" data-toc-modified-id=\"Indexing-2D-Matrices-4\"><span class=\"toc-item-num\">4&nbsp;&nbsp;</span>Indexing 2D Matrices</a></div><div class=\"lev2 toc-item\"><a href=\"#Exercise\" data-toc-modified-id=\"Exercise-41\"><span class=\"toc-item-num\">4.1&nbsp;&nbsp;</span>Exercise</a></div><div class=\"lev2 toc-item\"><a href=\"#Exercise\" data-toc-modified-id=\"Exercise-42\"><span class=\"toc-item-num\">4.2&nbsp;&nbsp;</span>Exercise</a></div><div class=\"lev2 toc-item\"><a href=\"#Exercise\" data-toc-modified-id=\"Exercise-43\"><span class=\"toc-item-num\">4.3&nbsp;&nbsp;</span>Exercise</a></div><div class=\"lev2 toc-item\"><a href=\"#Exercise\" data-toc-modified-id=\"Exercise-44\"><span class=\"toc-item-num\">4.4&nbsp;&nbsp;</span>Exercise</a></div><div class=\"lev2 toc-item\"><a href=\"#Exercise\" data-toc-modified-id=\"Exercise-45\"><span class=\"toc-item-num\">4.5&nbsp;&nbsp;</span>Exercise</a></div><div class=\"lev1 toc-item\"><a href=\"#Fancy-Indexing\" data-toc-modified-id=\"Fancy-Indexing-5\"><span class=\"toc-item-num\">5&nbsp;&nbsp;</span>Fancy Indexing</a></div><div class=\"lev2 toc-item\"><a href=\"#Method-1:-Boolean-Masks\" data-toc-modified-id=\"Method-1:-Boolean-Masks-51\"><span class=\"toc-item-num\">5.1&nbsp;&nbsp;</span>Method 1: Boolean Masks</a></div><div class=\"lev2 toc-item\"><a href=\"#Method-2:-Indexing-with-Array-of-Integers\" data-toc-modified-id=\"Method-2:-Indexing-with-Array-of-Integers-52\"><span class=\"toc-item-num\">5.2&nbsp;&nbsp;</span>Method 2: Indexing with Array of Integers</a></div><div class=\"lev2 toc-item\"><a href=\"#Take\" data-toc-modified-id=\"Take-53\"><span class=\"toc-item-num\">5.3&nbsp;&nbsp;</span>Take</a></div><div class=\"lev2 toc-item\"><a href=\"#Broadcasting\" data-toc-modified-id=\"Broadcasting-54\"><span class=\"toc-item-num\">5.4&nbsp;&nbsp;</span>Broadcasting</a></div><div class=\"lev3 toc-item\"><a href=\"#Broadcasting-Rule\" data-toc-modified-id=\"Broadcasting-Rule-541\"><span class=\"toc-item-num\">5.4.1&nbsp;&nbsp;</span>Broadcasting Rule</a></div><div class=\"lev2 toc-item\"><a href=\"#Other-Array-Operations\" data-toc-modified-id=\"Other-Array-Operations-55\"><span class=\"toc-item-num\">5.5&nbsp;&nbsp;</span>Other Array Operations</a></div><div class=\"lev3 toc-item\"><a href=\"#Copying-Arrays\" data-toc-modified-id=\"Copying-Arrays-551\"><span class=\"toc-item-num\">5.5.1&nbsp;&nbsp;</span>Copying Arrays</a></div><div class=\"lev3 toc-item\"><a href=\"#Squaring-Arrays\" data-toc-modified-id=\"Squaring-Arrays-552\"><span class=\"toc-item-num\">5.5.2&nbsp;&nbsp;</span>Squaring Arrays</a></div><div class=\"lev3 toc-item\"><a href=\"#Square-Roots\" data-toc-modified-id=\"Square-Roots-553\"><span class=\"toc-item-num\">5.5.3&nbsp;&nbsp;</span>Square Roots</a></div>"
   ]
  },
  {
   "cell_type": "markdown",
   "metadata": {},
   "source": [
    "# Introduction to NumPy\n",
    "From NumPy's [website](http://numpy.org) we have the following description:<br>\n",
    "\n",
    ">NumPy is the fundamental package for scientific computing with Python. It contains among other things:\n",
    "\n",
    ">* a powerful N-dimensional array object\n",
    "* sophisticated (broadcasting) functions\n",
    "* tools for integrating C/C++ and Fortran code\n",
    "* useful linear algebra, Fourier transform, and random number capabilities <br>\n",
    "\n",
    ">Besides its obvious scientific uses, NumPy can also be used as an efficient multi-dimensional container of generic data. Arbitrary data-types can be defined. This allows NumPy to seamlessly and speedily integrate with a wide variety of databases.\n",
    "\n",
    "You can think of Numpy as standard Python lists on steroids! \n",
    "<img src=\"images/roids.jpg\"> <br><br>\n",
    "As we saw earlier with Matplotlib, there are some conventions for importing Numpy too."
   ]
  },
  {
   "cell_type": "code",
   "execution_count": null,
   "metadata": {
    "collapsed": true
   },
   "outputs": [],
   "source": [
    "import numpy as np"
   ]
  },
  {
   "cell_type": "markdown",
   "metadata": {
    "collapsed": true
   },
   "source": [
    "There are a few reasons why **Numpy is so much faster than lists**:\n",
    "* Numpy's underlying code is written in C\n",
    "* The contents of Numpy's arrays are homogenous, i.e., all of of the same `type`\n",
    "* Numpy's arrays have a smaller memory footprint\n",
    "\n",
    "And since a Data Scientist is always learning, here's an excellent resource on Arrays - [scipy array tip sheet](http://pages.physics.cornell.edu/~myers/teaching/ComputationalMethods/python/arrays.html)"
   ]
  },
  {
   "cell_type": "markdown",
   "metadata": {},
   "source": [
    "# Creating Arrays\n",
    "Arrays contain uniform data type, with an arbitrary number of dimensions. What's a dimension? It's just a big word to denote how many levels deep the array goes. <br>\n",
    "Dimensions are nothing more than lists inside lists inside lists...<br>\n",
    "<img src=\"images/inception.jpg\">"
   ]
  },
  {
   "cell_type": "code",
   "execution_count": null,
   "metadata": {
    "collapsed": false
   },
   "outputs": [],
   "source": [
    "# Create an array with the statement np.array\n",
    "a = np.array([1,2,3,4])\n",
    "print('a is of type:', type(a))\n",
    "print('dimension of a:', a.ndim) # To find the dimension of 'a'"
   ]
  },
  {
   "cell_type": "code",
   "execution_count": null,
   "metadata": {
    "collapsed": false
   },
   "outputs": [],
   "source": [
    "arr1 = np.array([1,2,3,4])\n",
    "arr1.ndim"
   ]
  },
  {
   "cell_type": "code",
   "execution_count": null,
   "metadata": {
    "collapsed": false
   },
   "outputs": [],
   "source": [
    "arr2 = np.array([[1,2],[2,3],[3,4],[4,5]])\n",
    "arr2.ndim"
   ]
  },
  {
   "cell_type": "code",
   "execution_count": null,
   "metadata": {
    "collapsed": false
   },
   "outputs": [],
   "source": [
    "# Doesn't make a difference to a computer how you represent it,\n",
    "# but if humans are going to read your code, this might be useful\n",
    "arr3 = np.array([[[1,2],[2,3]],\n",
    "                 [[2,3],[3,4]],\n",
    "                 [[4,5],[5,6]],\n",
    "                 [[6,7],[7,8]]\n",
    "                ])\n",
    "arr3.ndim"
   ]
  },
  {
   "cell_type": "code",
   "execution_count": null,
   "metadata": {
    "collapsed": false
   },
   "outputs": [],
   "source": [
    "arr4 = np.array([[ 0,  1,  2,  3,  4], \n",
    "                 [ 5,  6,  7,  8,  9], \n",
    "                 [10, 11, 12, 13, 14]])\n",
    "arr4.ndim"
   ]
  },
  {
   "cell_type": "markdown",
   "metadata": {},
   "source": [
    "One easy to tell the number of dimensions - look at the number of square brackets at the beginning. [[ = 2 dimensions. [[[ = 3 dimensions. <br>\n",
    "Remember, dimensions are nothing more than lists inside lists inside lists..."
   ]
  },
  {
   "cell_type": "markdown",
   "metadata": {},
   "source": [
    "Why use Numpy Arrays, and not just list? One reason right here."
   ]
  },
  {
   "cell_type": "code",
   "execution_count": null,
   "metadata": {
    "collapsed": false
   },
   "outputs": [],
   "source": [
    "a_list = [1,2,3,4,5]\n",
    "b_list = [5,10,15,20,25]\n",
    "# Multiplying these will give an error\n",
    "print(a_list * b_list)"
   ]
  },
  {
   "cell_type": "code",
   "execution_count": null,
   "metadata": {
    "collapsed": false
   },
   "outputs": [],
   "source": [
    "a_list = np.array([1,2,3,4,5])\n",
    "b_list = np.array([5,10,15,20,25])\n",
    "print(a_list * b_list)"
   ]
  },
  {
   "cell_type": "markdown",
   "metadata": {},
   "source": [
    "Numpy allows for vectorisation, i.e. operations are applied to whole arrays instead of individual elements. To get the results of `a_list * b_list` using traditional python, you would have had to write a for loop. When dealing with millions or billions of lines of data, that can be inefficient. We will spend some more time on operations of this nature when we get to **Broadcasting**."
   ]
  },
  {
   "cell_type": "markdown",
   "metadata": {},
   "source": [
    "## Built-in methods to generate an array\n",
    "Numpy provides us many methods to generate numbers for our array."
   ]
  },
  {
   "cell_type": "code",
   "execution_count": null,
   "metadata": {
    "collapsed": false
   },
   "outputs": [],
   "source": [
    "arr1 = np.arange(16)\n",
    "print(arr1)"
   ]
  },
  {
   "cell_type": "markdown",
   "metadata": {},
   "source": [
    "We can even reshape these arrays into our desired shape. But remember, when we say desired shape, we are not speaking of circles or pentagons. Think square, reactangles, cubes and the like."
   ]
  },
  {
   "cell_type": "code",
   "execution_count": null,
   "metadata": {
    "collapsed": false
   },
   "outputs": [],
   "source": [
    "arr1.reshape(4,4)"
   ]
  },
  {
   "cell_type": "code",
   "execution_count": null,
   "metadata": {
    "collapsed": false
   },
   "outputs": [],
   "source": [
    "arr1.reshape(2,8)"
   ]
  },
  {
   "cell_type": "code",
   "execution_count": null,
   "metadata": {
    "collapsed": false
   },
   "outputs": [],
   "source": [
    "arr1.reshape(8,2)"
   ]
  },
  {
   "cell_type": "code",
   "execution_count": null,
   "metadata": {
    "collapsed": false
   },
   "outputs": [],
   "source": [
    "arr1.reshape(16,1)"
   ]
  },
  {
   "cell_type": "markdown",
   "metadata": {},
   "source": [
    "The `arange` feature generates sequential series though. What if we want random numbers?<br><br>\n",
    "### Randint"
   ]
  },
  {
   "cell_type": "code",
   "execution_count": null,
   "metadata": {
    "collapsed": false
   },
   "outputs": [],
   "source": [
    "rand_arr = np.random.randint(0,1000,20)\n",
    "print(rand_arr)"
   ]
  },
  {
   "cell_type": "markdown",
   "metadata": {},
   "source": [
    "Translating from Python to English, \"call the randint module from the random module of numpy, then select 5 numbers between 0 and 999 at random, and assign that to an array named rand_arr i.e. 0 is included, 1000 is excluded.\n",
    "<img src=\"images/simples.gif\"> <br><br>"
   ]
  },
  {
   "cell_type": "code",
   "execution_count": null,
   "metadata": {
    "collapsed": false,
    "scrolled": true
   },
   "outputs": [],
   "source": [
    "rand_arr.reshape(5,4)"
   ]
  },
  {
   "cell_type": "code",
   "execution_count": null,
   "metadata": {
    "collapsed": false
   },
   "outputs": [],
   "source": [
    "rand_arr.reshape(4,5)"
   ]
  },
  {
   "cell_type": "code",
   "execution_count": null,
   "metadata": {
    "collapsed": false
   },
   "outputs": [],
   "source": [
    "rand_arr.reshape(2,10)"
   ]
  },
  {
   "cell_type": "markdown",
   "metadata": {},
   "source": [
    "Remember, the first number always represents the number of rows."
   ]
  },
  {
   "cell_type": "markdown",
   "metadata": {},
   "source": [
    "### Random Array with a Uniform Distribution\n",
    "From the official documentation:\n",
    "> Create an array of the given shape and populate it with random samples from a uniform distribution over [0, 1).\n",
    "\n",
    "A uniform distribution, is a distribution that has constant probability."
   ]
  },
  {
   "cell_type": "code",
   "execution_count": null,
   "metadata": {
    "collapsed": false
   },
   "outputs": [],
   "source": [
    "np.random.rand(5)"
   ]
  },
  {
   "cell_type": "code",
   "execution_count": null,
   "metadata": {
    "collapsed": false
   },
   "outputs": [],
   "source": [
    "np.random.rand(3,2)"
   ]
  },
  {
   "cell_type": "markdown",
   "metadata": {},
   "source": [
    "### Random Array with Standard Normal Distribution\n",
    "From the official documentation:\n",
    "> Return a sample (or samples) from the “standard normal” distribution.\n",
    "\n",
    "> For random samples from $$N(\\mu, \\sigma^2)$$ use:  \n",
    "> sigma * np.random.randn(...) + mu\n",
    "\n",
    "Don't get scared by the formula - it's actually very simple, and we will cover this in brief later on in the mathematics section."
   ]
  },
  {
   "cell_type": "code",
   "execution_count": null,
   "metadata": {
    "collapsed": false
   },
   "outputs": [],
   "source": [
    "np.random.randn(5)"
   ]
  },
  {
   "cell_type": "markdown",
   "metadata": {},
   "source": [
    "### Array of Zeroes"
   ]
  },
  {
   "cell_type": "code",
   "execution_count": null,
   "metadata": {
    "collapsed": false
   },
   "outputs": [],
   "source": [
    "np.zeros(16)"
   ]
  },
  {
   "cell_type": "code",
   "execution_count": null,
   "metadata": {
    "collapsed": false
   },
   "outputs": [],
   "source": [
    "np.zeros((4,4))"
   ]
  },
  {
   "cell_type": "markdown",
   "metadata": {},
   "source": [
    "### Array of Ones"
   ]
  },
  {
   "cell_type": "code",
   "execution_count": null,
   "metadata": {
    "collapsed": false
   },
   "outputs": [],
   "source": [
    "np.ones(5)"
   ]
  },
  {
   "cell_type": "code",
   "execution_count": null,
   "metadata": {
    "collapsed": false
   },
   "outputs": [],
   "source": [
    "np.ones((4,4))"
   ]
  },
  {
   "cell_type": "markdown",
   "metadata": {},
   "source": [
    "### Identity Matrix\n",
    "An identity matrix is a square matrix, with all the values on the diagonal equal to 1, and the remaining values equal to 0."
   ]
  },
  {
   "cell_type": "code",
   "execution_count": null,
   "metadata": {
    "collapsed": false
   },
   "outputs": [],
   "source": [
    "np.eye(4)"
   ]
  },
  {
   "cell_type": "markdown",
   "metadata": {},
   "source": [
    "### Linspace\n",
    "From Numpy's official documentation:\n",
    "> Return evenly spaced numbers over a specified interval.\n",
    "\n",
    "> Returns num evenly spaced samples, calculated over the interval [start, stop].\n",
    "\n",
    "> The endpoint of the interval can optionally be excluded.\n",
    "\n",
    "Here's an interesting discussion on SO about when to use Linspace v range - https://stackoverflow.com/questions/5779270/linspace-vs-range"
   ]
  },
  {
   "cell_type": "code",
   "execution_count": null,
   "metadata": {
    "collapsed": false
   },
   "outputs": [],
   "source": [
    "# 5 evenly spaced numbers between -5 and 5\n",
    "np.linspace(-5,5,5)"
   ]
  },
  {
   "cell_type": "markdown",
   "metadata": {},
   "source": [
    "# Quick Operations on Numpy Arrays"
   ]
  },
  {
   "cell_type": "code",
   "execution_count": null,
   "metadata": {
    "collapsed": false
   },
   "outputs": [],
   "source": [
    "arr1 = np.random.randint(1,1000,100)\n",
    "arr1.reshape(10,10)"
   ]
  },
  {
   "cell_type": "markdown",
   "metadata": {},
   "source": [
    "Now imagine this is just a small snippet of a large array with millions, or even billions of numbers. Does that sound crazy? Well, Data Scientist regularly work with large arrays of numbers. The Netflix Data Scientists for example, deal with a high dimensional sparse matrix. <br><br>\n",
    "For smaller datasets, let's say, number of people who boarded a particular flight every day for the past hundred days, we have a few useful tools to find the highest or lowest values, and their corresponding locations."
   ]
  },
  {
   "cell_type": "code",
   "execution_count": null,
   "metadata": {
    "collapsed": false
   },
   "outputs": [],
   "source": [
    "# Find the highest value in arr1\n",
    "arr1.max()"
   ]
  },
  {
   "cell_type": "code",
   "execution_count": null,
   "metadata": {
    "collapsed": false
   },
   "outputs": [],
   "source": [
    "# Find the lowest value in arr1\n",
    "arr1.min()"
   ]
  },
  {
   "cell_type": "code",
   "execution_count": null,
   "metadata": {
    "collapsed": false
   },
   "outputs": [],
   "source": [
    "# Find the location of the highest value in arr1\n",
    "arr1.argmax()"
   ]
  },
  {
   "cell_type": "markdown",
   "metadata": {},
   "source": [
    "Keep in mind that if we have duplicate entries, or multiple entries, only the first entry will be returned."
   ]
  },
  {
   "cell_type": "code",
   "execution_count": null,
   "metadata": {
    "collapsed": false
   },
   "outputs": [],
   "source": [
    "arr1.argmin()"
   ]
  },
  {
   "cell_type": "code",
   "execution_count": null,
   "metadata": {
    "collapsed": false
   },
   "outputs": [],
   "source": [
    "arr1.shape"
   ]
  },
  {
   "cell_type": "code",
   "execution_count": null,
   "metadata": {
    "collapsed": false
   },
   "outputs": [],
   "source": [
    "# From earlier\n",
    "rand_arr"
   ]
  },
  {
   "cell_type": "code",
   "execution_count": null,
   "metadata": {
    "collapsed": false
   },
   "outputs": [],
   "source": [
    "rand_arr = rand_arr.reshape(4,5)"
   ]
  },
  {
   "cell_type": "code",
   "execution_count": null,
   "metadata": {
    "collapsed": false
   },
   "outputs": [],
   "source": [
    "rand_arr.shape"
   ]
  },
  {
   "cell_type": "markdown",
   "metadata": {},
   "source": [
    "## Selecting Values"
   ]
  },
  {
   "cell_type": "markdown",
   "metadata": {},
   "source": [
    "Secret! You already know how to select values from a numpy array. "
   ]
  },
  {
   "cell_type": "code",
   "execution_count": null,
   "metadata": {
    "collapsed": false
   },
   "outputs": [],
   "source": [
    "arr1 = np.arange(1,6)\n",
    "arr1"
   ]
  },
  {
   "cell_type": "code",
   "execution_count": null,
   "metadata": {
    "collapsed": false
   },
   "outputs": [],
   "source": [
    "arr1[0]"
   ]
  },
  {
   "cell_type": "code",
   "execution_count": null,
   "metadata": {
    "collapsed": false
   },
   "outputs": [],
   "source": [
    "arr1[0:3]"
   ]
  },
  {
   "cell_type": "code",
   "execution_count": null,
   "metadata": {
    "collapsed": false
   },
   "outputs": [],
   "source": [
    "arr1[-1]"
   ]
  },
  {
   "cell_type": "markdown",
   "metadata": {},
   "source": [
    "Remember our old friend, lists?\n",
    "<img src=\"images/hello_friend.jpg\">\n",
    "\n",
    "And there you have it - you're already an expert in Numpy Indexing! And very soon, you will learn to be an expert at indexing 2D Matrices too."
   ]
  },
  {
   "cell_type": "markdown",
   "metadata": {},
   "source": [
    "# Indexing 2D Matrices"
   ]
  },
  {
   "cell_type": "code",
   "execution_count": null,
   "metadata": {
    "collapsed": false
   },
   "outputs": [],
   "source": [
    "rand_arr = np.random.randint(0,1000,20)\n",
    "print(rand_arr)"
   ]
  },
  {
   "cell_type": "code",
   "execution_count": null,
   "metadata": {
    "collapsed": false
   },
   "outputs": [],
   "source": [
    "rand_arr = rand_arr.reshape(5,4)\n",
    "rand_arr"
   ]
  },
  {
   "cell_type": "code",
   "execution_count": null,
   "metadata": {
    "collapsed": false
   },
   "outputs": [],
   "source": [
    "rand_arr[0]"
   ]
  },
  {
   "cell_type": "code",
   "execution_count": null,
   "metadata": {
    "collapsed": false
   },
   "outputs": [],
   "source": [
    "rand_arr[1]"
   ]
  },
  {
   "cell_type": "code",
   "execution_count": null,
   "metadata": {
    "collapsed": false
   },
   "outputs": [],
   "source": [
    "rand_arr[0][-1]"
   ]
  },
  {
   "cell_type": "code",
   "execution_count": null,
   "metadata": {
    "collapsed": false
   },
   "outputs": [],
   "source": [
    "# Another way to write the same thing\n",
    "rand_arr[0,-1]"
   ]
  },
  {
   "cell_type": "markdown",
   "metadata": {},
   "source": [
    "**Remember, rows before columns. Always!**<br>\n",
    "How do we get entire rows, or snippets of values from rows?<br>\n",
    "Exactly the same as before. Nothing to worry about here!"
   ]
  },
  {
   "cell_type": "code",
   "execution_count": null,
   "metadata": {
    "collapsed": false
   },
   "outputs": [],
   "source": [
    "arr1 = np.arange(1,101)\n",
    "arr1"
   ]
  },
  {
   "cell_type": "code",
   "execution_count": null,
   "metadata": {
    "collapsed": false
   },
   "outputs": [],
   "source": [
    "arr1 = arr1.reshape(10,10)\n",
    "arr1"
   ]
  },
  {
   "cell_type": "markdown",
   "metadata": {},
   "source": [
    "## Exercise\n",
    "Select 26 to 30"
   ]
  },
  {
   "cell_type": "code",
   "execution_count": null,
   "metadata": {
    "collapsed": false
   },
   "outputs": [],
   "source": [
    "# Step 1 - Narrow down the row\n",
    "arr1[2] # 3rd row"
   ]
  },
  {
   "cell_type": "code",
   "execution_count": null,
   "metadata": {
    "collapsed": false
   },
   "outputs": [],
   "source": [
    "# 26 is at index 5, we need all the numbers from thr 6th column onwards\n",
    "arr1[2,5:]"
   ]
  },
  {
   "cell_type": "markdown",
   "metadata": {},
   "source": [
    "## Exercise\n",
    "Select:<br>\n",
    "[71,  72,  73]<br>\n",
    "[81,  82,  83]<br>\n",
    "[91,  92,  93]"
   ]
  },
  {
   "cell_type": "code",
   "execution_count": null,
   "metadata": {
    "collapsed": false
   },
   "outputs": [],
   "source": [
    "# Step 1: Identify the Row\n",
    "arr1[7:]"
   ]
  },
  {
   "cell_type": "code",
   "execution_count": null,
   "metadata": {
    "collapsed": false
   },
   "outputs": [],
   "source": [
    "# Now we need the first three columns\n",
    "arr1[7:,:3]"
   ]
  },
  {
   "cell_type": "markdown",
   "metadata": {},
   "source": [
    "## Exercise\n",
    "Select: <br>\n",
    "[56,  57,  58,  59,  60]<br>\n",
    "[66,  67,  68,  69,  70]<br>\n",
    "[76,  77,  78,  79,  80]"
   ]
  },
  {
   "cell_type": "code",
   "execution_count": null,
   "metadata": {
    "collapsed": true
   },
   "outputs": [],
   "source": [
    "# Your code here"
   ]
  },
  {
   "cell_type": "markdown",
   "metadata": {},
   "source": [
    "## Exercise\n",
    "Select:<br>\n",
    "[ 44,  45]<br>\n",
    "[ 54,  55]"
   ]
  },
  {
   "cell_type": "code",
   "execution_count": null,
   "metadata": {
    "collapsed": true
   },
   "outputs": [],
   "source": [
    "# Your code here"
   ]
  },
  {
   "cell_type": "markdown",
   "metadata": {},
   "source": [
    "## Exercise\n",
    "Create atleast 4 challenges for yourself, so you can practice indexing."
   ]
  },
  {
   "cell_type": "code",
   "execution_count": null,
   "metadata": {
    "collapsed": true
   },
   "outputs": [],
   "source": [
    "# Your code here"
   ]
  },
  {
   "cell_type": "markdown",
   "metadata": {},
   "source": [
    "# Fancy Indexing\n",
    "\n",
    "## Method 1: Boolean Masks\n",
    "While there are many ways to index, one of the more common methods that Data Scientists use will is Boolean Indexing. You can read more about indexing methods [here](https://docs.scipy.org/doc/numpy/user/basics.indexing.html#indexing).\n"
   ]
  },
  {
   "cell_type": "code",
   "execution_count": null,
   "metadata": {
    "collapsed": false
   },
   "outputs": [],
   "source": [
    "# Our existing Array, arr1\n",
    "arr1"
   ]
  },
  {
   "cell_type": "code",
   "execution_count": null,
   "metadata": {
    "collapsed": false
   },
   "outputs": [],
   "source": [
    "# We check what values are greater than 50\n",
    "arr1>50"
   ]
  },
  {
   "cell_type": "code",
   "execution_count": null,
   "metadata": {
    "collapsed": false
   },
   "outputs": [],
   "source": [
    "# Assign this operation to a variable x\n",
    "mask = arr1>50\n",
    "# Create a new array which subsets arr1 based on a boolean operation\n",
    "arr2 = arr1[mask]\n",
    "arr2"
   ]
  },
  {
   "cell_type": "code",
   "execution_count": null,
   "metadata": {
    "collapsed": false
   },
   "outputs": [],
   "source": [
    "# Check the shape\n",
    "arr2.shape"
   ]
  },
  {
   "cell_type": "code",
   "execution_count": null,
   "metadata": {
    "collapsed": true
   },
   "outputs": [],
   "source": [
    "# Let's reshape\n",
    "arr2 = arr2.reshape(5,10)"
   ]
  },
  {
   "cell_type": "code",
   "execution_count": null,
   "metadata": {
    "collapsed": false
   },
   "outputs": [],
   "source": [
    "arr2"
   ]
  },
  {
   "cell_type": "markdown",
   "metadata": {},
   "source": [
    "## Method 2: Indexing with Array of Integers\n",
    "Don't get intimidated by the big words - it just means indexing by using a Python list."
   ]
  },
  {
   "cell_type": "code",
   "execution_count": null,
   "metadata": {
    "collapsed": true
   },
   "outputs": [],
   "source": [
    "list1 = [1,3,5,7]\n",
    "list2 = [2,4,6,8]"
   ]
  },
  {
   "cell_type": "code",
   "execution_count": null,
   "metadata": {
    "collapsed": false
   },
   "outputs": [],
   "source": [
    "arr1"
   ]
  },
  {
   "cell_type": "code",
   "execution_count": null,
   "metadata": {
    "collapsed": false
   },
   "outputs": [],
   "source": [
    "arr_odd = arr1[list1]\n",
    "arr_odd"
   ]
  },
  {
   "cell_type": "code",
   "execution_count": null,
   "metadata": {
    "collapsed": false
   },
   "outputs": [],
   "source": [
    "# Alternately\n",
    "arr_odd = arr1[[1,3,5,7]]\n",
    "arr_odd"
   ]
  },
  {
   "cell_type": "code",
   "execution_count": null,
   "metadata": {
    "collapsed": false
   },
   "outputs": [],
   "source": [
    "arr_even = arr1[list2]\n",
    "arr_even"
   ]
  },
  {
   "cell_type": "markdown",
   "metadata": {},
   "source": [
    "## Take\n",
    "This is similar to Fancy Indexing, but is arguably easier to use, atleast for me. I am sure you might develop a preference for this technique too. Additionally, Wes McKinney - the creator of Pandas, [reports](http://wesmckinney.com/blog/numpy-indexing-peculiarities/) that \"take\" is faster than \"fancy indexing\"."
   ]
  },
  {
   "cell_type": "code",
   "execution_count": null,
   "metadata": {
    "collapsed": false
   },
   "outputs": [],
   "source": [
    "arr1"
   ]
  },
  {
   "cell_type": "code",
   "execution_count": null,
   "metadata": {
    "collapsed": false,
    "scrolled": true
   },
   "outputs": [],
   "source": [
    "indices = [0,2,4,10,20,80,91,97,99]\n",
    "np.take(arr1, indices)"
   ]
  },
  {
   "cell_type": "markdown",
   "metadata": {},
   "source": [
    "Works with Multi-Dimensional "
   ]
  },
  {
   "cell_type": "code",
   "execution_count": null,
   "metadata": {
    "collapsed": false
   },
   "outputs": [],
   "source": [
    "np.take(arr1, [[0, 1], [11, 18]])"
   ]
  },
  {
   "cell_type": "markdown",
   "metadata": {},
   "source": [
    "## Broadcasting\n",
    "Broadcasting is a way for Numpy to work with arrays of different shapes.\n",
    "\n",
    "The easiest example to explain broadcasting would be to use a scalar value. What's a scalar? A quantity having only magnitutde, but not direction. Speed is a scalar, velocity is a vector. For our practical Numpy purposes, scalars are real numbers - 1,2,3,4.....\n",
    "\n",
    "Broadcasting is fast and efficient because all the underlying looping occurs in C, and happens on the fly without making copies of the data."
   ]
  },
  {
   "cell_type": "code",
   "execution_count": null,
   "metadata": {
    "collapsed": false
   },
   "outputs": [],
   "source": [
    "arr_1 = np.arange(1,11)\n",
    "print(arr_1)\n",
    "print(arr_1 * 10)"
   ]
  },
  {
   "cell_type": "markdown",
   "metadata": {},
   "source": [
    "Here we have broadcast 10 to all other elements in the array. Remember Vectorisation? Same principles!"
   ]
  },
  {
   "cell_type": "code",
   "execution_count": null,
   "metadata": {
    "collapsed": false
   },
   "outputs": [],
   "source": [
    "arr_1 = np.array([[1,2],[3,4]])\n",
    "a = 2\n",
    "arr_1+a"
   ]
  },
  {
   "cell_type": "markdown",
   "metadata": {},
   "source": [
    "### Broadcasting Rule\n",
    "What about arrays of different dimensions and/or sizes? Well, for that, we have the broadcasting rule.\n",
    "> In order to broadcast, the size of the trailing axes for both arrays in an operation must either be the same size or one of them must be one.\n",
    "\n",
    "Umm....\n",
    "\n",
    "<img src=\"images/english.jpg\"> \n",
    "Ok, let's not offend our friend Samuel Jackson here, so here's what it means in plain English."
   ]
  },
  {
   "cell_type": "code",
   "execution_count": null,
   "metadata": {
    "collapsed": false
   },
   "outputs": [],
   "source": [
    "arr1 = np.arange(1,13)\n",
    "arr1"
   ]
  },
  {
   "cell_type": "code",
   "execution_count": null,
   "metadata": {
    "collapsed": false
   },
   "outputs": [],
   "source": [
    "arr1.shape"
   ]
  },
  {
   "cell_type": "code",
   "execution_count": null,
   "metadata": {
    "collapsed": false
   },
   "outputs": [],
   "source": [
    "arr1 = arr1.reshape(4,3).astype('float')"
   ]
  },
  {
   "cell_type": "code",
   "execution_count": null,
   "metadata": {
    "collapsed": false
   },
   "outputs": [],
   "source": [
    "arr1"
   ]
  },
  {
   "cell_type": "markdown",
   "metadata": {},
   "source": [
    "A quick digression, in case you are wondering, the `.astype('float')` was just a quick operation to convert integers to floats as you are already familiar with. If you want to find out what the data type of an element in a numpy array is, simply use the suffix `.dtype`"
   ]
  },
  {
   "cell_type": "code",
   "execution_count": null,
   "metadata": {
    "collapsed": false
   },
   "outputs": [],
   "source": [
    "arr1.dtype"
   ]
  },
  {
   "cell_type": "code",
   "execution_count": null,
   "metadata": {
    "collapsed": false
   },
   "outputs": [],
   "source": [
    "arr_example = np.array([1,2,3,4])\n",
    "print(arr_example)\n",
    "print('arr_example is an',arr_example.dtype)\n",
    "arr_example = arr_example.astype('float')\n",
    "print('arr_example is now a',arr_example.dtype)"
   ]
  },
  {
   "cell_type": "markdown",
   "metadata": {},
   "source": [
    "Back to our array, arr1"
   ]
  },
  {
   "cell_type": "code",
   "execution_count": null,
   "metadata": {
    "collapsed": false
   },
   "outputs": [],
   "source": [
    "arr1"
   ]
  },
  {
   "cell_type": "code",
   "execution_count": null,
   "metadata": {
    "collapsed": false
   },
   "outputs": [],
   "source": [
    "arr1.shape"
   ]
  },
  {
   "cell_type": "code",
   "execution_count": null,
   "metadata": {
    "collapsed": false
   },
   "outputs": [],
   "source": [
    "arr2 = np.array([0.0,1.0,2.0])\n",
    "print(arr2)\n",
    "print(arr2.shape)"
   ]
  },
  {
   "cell_type": "code",
   "execution_count": null,
   "metadata": {
    "collapsed": false
   },
   "outputs": [],
   "source": [
    "arr1 + arr2"
   ]
  },
  {
   "cell_type": "markdown",
   "metadata": {},
   "source": [
    "Do you see what happened here? Our row with 3 elements, was sequentially added to each 3-element row in arr1.\n",
    "\n",
    "The 1d array is represented as (3,), but think of it as simple a (3). The trailing axes have to match. So (4,3) and (3) match. What happens with it's (4,3) and (4)? It won't work! Let's prove it here."
   ]
  },
  {
   "cell_type": "code",
   "execution_count": null,
   "metadata": {
    "collapsed": false
   },
   "outputs": [],
   "source": [
    "arr3 = np.arange(0,4)\n",
    "arr3 = arr3.astype('float')\n",
    "print(arr3)\n",
    "print(arr3.shape)"
   ]
  },
  {
   "cell_type": "code",
   "execution_count": null,
   "metadata": {
    "collapsed": false
   },
   "outputs": [],
   "source": [
    "# Let's generate our error\n",
    "arr1 + arr3"
   ]
  },
  {
   "cell_type": "markdown",
   "metadata": {},
   "source": [
    "A final example now, with a (5,1) and (3) array. Read the rule once again - and it will be clear that the new array will be a 5X3 array. "
   ]
  },
  {
   "cell_type": "code",
   "execution_count": null,
   "metadata": {
    "collapsed": false
   },
   "outputs": [],
   "source": [
    "arr4 = np.arange(1,6)\n",
    "arr4"
   ]
  },
  {
   "cell_type": "code",
   "execution_count": null,
   "metadata": {
    "collapsed": false
   },
   "outputs": [],
   "source": [
    "arr4 = arr4.reshape(5,1).astype('float')\n",
    "arr4"
   ]
  },
  {
   "cell_type": "code",
   "execution_count": null,
   "metadata": {
    "collapsed": false
   },
   "outputs": [],
   "source": [
    "arr2"
   ]
  },
  {
   "cell_type": "code",
   "execution_count": null,
   "metadata": {
    "collapsed": false
   },
   "outputs": [],
   "source": [
    "arr4 * arr2"
   ]
  },
  {
   "cell_type": "markdown",
   "metadata": {},
   "source": [
    "## Other Array Operations"
   ]
  },
  {
   "cell_type": "markdown",
   "metadata": {},
   "source": [
    "So let's begin with some good news here. You have already performed some advanced algebraic operations! That's the power of numpy.\n",
    "\n",
    "Let's look at a few more operations now that come in quite handy."
   ]
  },
  {
   "cell_type": "markdown",
   "metadata": {},
   "source": [
    "### Copying Arrays"
   ]
  },
  {
   "cell_type": "code",
   "execution_count": null,
   "metadata": {
    "collapsed": false
   },
   "outputs": [],
   "source": [
    "a1 = np.arange(1,21)\n",
    "a1 = a1.reshape(4,5)\n",
    "a1"
   ]
  },
  {
   "cell_type": "code",
   "execution_count": null,
   "metadata": {
    "collapsed": false
   },
   "outputs": [],
   "source": [
    "# Let's get the first column\n",
    "a1[:,0]"
   ]
  },
  {
   "cell_type": "code",
   "execution_count": null,
   "metadata": {
    "collapsed": false
   },
   "outputs": [],
   "source": [
    "# Assign to new array\n",
    "new_a1 = a1[:,0]\n",
    "new_a1"
   ]
  },
  {
   "cell_type": "code",
   "execution_count": null,
   "metadata": {
    "collapsed": false
   },
   "outputs": [],
   "source": [
    "# Recall that this is how you select all values\n",
    "new_a1[:] = 42\n",
    "new_a1"
   ]
  },
  {
   "cell_type": "markdown",
   "metadata": {},
   "source": [
    "So what happened to our original array? Let's find out."
   ]
  },
  {
   "cell_type": "code",
   "execution_count": null,
   "metadata": {
    "collapsed": false
   },
   "outputs": [],
   "source": [
    "a1"
   ]
  },
  {
   "cell_type": "markdown",
   "metadata": {},
   "source": [
    "Why did that happen?! We never touched a1, and even went on to create a whole new array!\n",
    "\n",
    "This is because Numpy is very efficient in the way it uses memory. If you want a copy, be explicit, else Numpy will make changes to the original array too. Here's how you make a copy."
   ]
  },
  {
   "cell_type": "code",
   "execution_count": null,
   "metadata": {
    "collapsed": false
   },
   "outputs": [],
   "source": [
    "a1_copy = a1.copy()\n",
    "a1_copy"
   ]
  },
  {
   "cell_type": "code",
   "execution_count": null,
   "metadata": {
    "collapsed": false
   },
   "outputs": [],
   "source": [
    "a1_copy = np.arange(1,21)\n",
    "a1_copy = a1_copy.reshape(4,5)\n",
    "a1_copy"
   ]
  },
  {
   "cell_type": "code",
   "execution_count": null,
   "metadata": {
    "collapsed": false
   },
   "outputs": [],
   "source": [
    "a1"
   ]
  },
  {
   "cell_type": "markdown",
   "metadata": {},
   "source": [
    "### Squaring Arrays"
   ]
  },
  {
   "cell_type": "code",
   "execution_count": null,
   "metadata": {
    "collapsed": false
   },
   "outputs": [],
   "source": [
    "np.square(a1)"
   ]
  },
  {
   "cell_type": "markdown",
   "metadata": {},
   "source": [
    "### Square Roots"
   ]
  },
  {
   "cell_type": "code",
   "execution_count": null,
   "metadata": {
    "collapsed": false,
    "scrolled": true
   },
   "outputs": [],
   "source": [
    "np.sqrt(a1)"
   ]
  },
  {
   "cell_type": "markdown",
   "metadata": {},
   "source": [
    "That's all folks!\n",
    "<img src=\"images/looney.jpg\"> \n",
    "\n",
    "You are on your way to become a Numpy expert, but please, constantly educate yourself. This is only a beginning, and it's just not humanly possible to cover all of Numpy is a tutorial or even a book. I meet Data Scientists at PyCon and other conferences that are always pleasantly surprised to discover new tips and tricks or features they never knew about. To be the best, you have to constantly update your skills too."
   ]
  }
 ],
 "metadata": {
  "kernelspec": {
   "display_name": "Python [conda env:py3]",
   "language": "python",
   "name": "conda-env-py3-py"
  },
  "language_info": {
   "codemirror_mode": {
    "name": "ipython",
    "version": 3
   },
   "file_extension": ".py",
   "mimetype": "text/x-python",
   "name": "python",
   "nbconvert_exporter": "python",
   "pygments_lexer": "ipython3",
   "version": "3.5.2"
  },
  "toc": {
   "colors": {
    "hover_highlight": "#DAA520",
    "running_highlight": "#FF0000",
    "selected_highlight": "#FFD700"
   },
   "moveMenuLeft": true,
   "nav_menu": {
    "height": "512px",
    "width": "252px"
   },
   "navigate_menu": true,
   "number_sections": true,
   "sideBar": true,
   "threshold": 4,
   "toc_cell": true,
   "toc_section_display": "block",
   "toc_window_display": true
  }
 },
 "nbformat": 4,
 "nbformat_minor": 2
}
